{
 "cells": [
  {
   "cell_type": "code",
   "execution_count": 8,
   "metadata": {},
   "outputs": [],
   "source": [
    "import os\n",
    "import pandas as pd\n",
    "import numpy as np\n",
    "\n",
    "# visualization \n",
    "%matplotlib inline\n",
    "import matplotlib.pyplot as plt\n",
    "from matplotlib import style\n",
    "import seaborn as sns\n",
    "\n",
    "import sklearn \n",
    "\n",
    "import datetime as dt\n",
    "from datetime import timedelta \n",
    "from datetime import date\n",
    "\n",
    "# plotting candlestick graphs\n",
    "import mplfinance as mpf\n",
    "\n",
    "# stock data api\n",
    "from iexfinance.stocks import Stock\n",
    "from iexfinance.stocks import get_historical_data\n",
    "import quandl as ql\n",
    "import yfinance as yf\n",
    "# import helper file for functions\n",
    "import helper"
   ]
  },
  {
   "cell_type": "code",
   "execution_count": 6,
   "metadata": {
    "scrolled": true
   },
   "outputs": [
    {
     "data": {
      "text/html": [
       "<div>\n",
       "<style scoped>\n",
       "    .dataframe tbody tr th:only-of-type {\n",
       "        vertical-align: middle;\n",
       "    }\n",
       "\n",
       "    .dataframe tbody tr th {\n",
       "        vertical-align: top;\n",
       "    }\n",
       "\n",
       "    .dataframe thead th {\n",
       "        text-align: right;\n",
       "    }\n",
       "</style>\n",
       "<table border=\"1\" class=\"dataframe\">\n",
       "  <thead>\n",
       "    <tr style=\"text-align: right;\">\n",
       "      <th></th>\n",
       "      <th>Open</th>\n",
       "      <th>High</th>\n",
       "      <th>Low</th>\n",
       "      <th>Close</th>\n",
       "      <th>Volume</th>\n",
       "      <th>Dividend</th>\n",
       "      <th>Split</th>\n",
       "      <th>Adj_Open</th>\n",
       "      <th>Adj_High</th>\n",
       "      <th>Adj_Low</th>\n",
       "      <th>Adj_Close</th>\n",
       "      <th>Adj_Volume</th>\n",
       "    </tr>\n",
       "    <tr>\n",
       "      <th>Date</th>\n",
       "      <th></th>\n",
       "      <th></th>\n",
       "      <th></th>\n",
       "      <th></th>\n",
       "      <th></th>\n",
       "      <th></th>\n",
       "      <th></th>\n",
       "      <th></th>\n",
       "      <th></th>\n",
       "      <th></th>\n",
       "      <th></th>\n",
       "      <th></th>\n",
       "    </tr>\n",
       "  </thead>\n",
       "  <tbody>\n",
       "    <tr>\n",
       "      <th>2017-12-21</th>\n",
       "      <td>86.05</td>\n",
       "      <td>86.1000</td>\n",
       "      <td>85.400</td>\n",
       "      <td>85.50</td>\n",
       "      <td>17990745.0</td>\n",
       "      <td>0.0</td>\n",
       "      <td>1.0</td>\n",
       "      <td>82.753184</td>\n",
       "      <td>82.801268</td>\n",
       "      <td>82.128087</td>\n",
       "      <td>82.224256</td>\n",
       "      <td>17990745.0</td>\n",
       "    </tr>\n",
       "    <tr>\n",
       "      <th>2017-12-22</th>\n",
       "      <td>85.40</td>\n",
       "      <td>85.6300</td>\n",
       "      <td>84.920</td>\n",
       "      <td>85.51</td>\n",
       "      <td>14145841.0</td>\n",
       "      <td>0.0</td>\n",
       "      <td>1.0</td>\n",
       "      <td>82.128087</td>\n",
       "      <td>82.349275</td>\n",
       "      <td>81.666477</td>\n",
       "      <td>82.233873</td>\n",
       "      <td>14145841.0</td>\n",
       "    </tr>\n",
       "    <tr>\n",
       "      <th>2017-12-26</th>\n",
       "      <td>85.31</td>\n",
       "      <td>85.5346</td>\n",
       "      <td>85.030</td>\n",
       "      <td>85.40</td>\n",
       "      <td>9891237.0</td>\n",
       "      <td>0.0</td>\n",
       "      <td>1.0</td>\n",
       "      <td>82.041535</td>\n",
       "      <td>82.257530</td>\n",
       "      <td>81.772263</td>\n",
       "      <td>82.128087</td>\n",
       "      <td>9891237.0</td>\n",
       "    </tr>\n",
       "    <tr>\n",
       "      <th>2017-12-27</th>\n",
       "      <td>85.65</td>\n",
       "      <td>85.9800</td>\n",
       "      <td>85.215</td>\n",
       "      <td>85.71</td>\n",
       "      <td>14678025.0</td>\n",
       "      <td>0.0</td>\n",
       "      <td>1.0</td>\n",
       "      <td>82.368509</td>\n",
       "      <td>82.685866</td>\n",
       "      <td>81.950175</td>\n",
       "      <td>82.426210</td>\n",
       "      <td>14678025.0</td>\n",
       "    </tr>\n",
       "    <tr>\n",
       "      <th>2017-12-28</th>\n",
       "      <td>85.90</td>\n",
       "      <td>85.9300</td>\n",
       "      <td>85.550</td>\n",
       "      <td>85.72</td>\n",
       "      <td>10594344.0</td>\n",
       "      <td>0.0</td>\n",
       "      <td>1.0</td>\n",
       "      <td>82.608931</td>\n",
       "      <td>82.637781</td>\n",
       "      <td>82.272340</td>\n",
       "      <td>82.435827</td>\n",
       "      <td>10594344.0</td>\n",
       "    </tr>\n",
       "  </tbody>\n",
       "</table>\n",
       "</div>"
      ],
      "text/plain": [
       "             Open     High     Low  Close      Volume  Dividend  Split  \\\n",
       "Date                                                                     \n",
       "2017-12-21  86.05  86.1000  85.400  85.50  17990745.0       0.0    1.0   \n",
       "2017-12-22  85.40  85.6300  84.920  85.51  14145841.0       0.0    1.0   \n",
       "2017-12-26  85.31  85.5346  85.030  85.40   9891237.0       0.0    1.0   \n",
       "2017-12-27  85.65  85.9800  85.215  85.71  14678025.0       0.0    1.0   \n",
       "2017-12-28  85.90  85.9300  85.550  85.72  10594344.0       0.0    1.0   \n",
       "\n",
       "             Adj_Open   Adj_High    Adj_Low  Adj_Close  Adj_Volume  \n",
       "Date                                                                \n",
       "2017-12-21  82.753184  82.801268  82.128087  82.224256  17990745.0  \n",
       "2017-12-22  82.128087  82.349275  81.666477  82.233873  14145841.0  \n",
       "2017-12-26  82.041535  82.257530  81.772263  82.128087   9891237.0  \n",
       "2017-12-27  82.368509  82.685866  81.950175  82.426210  14678025.0  \n",
       "2017-12-28  82.608931  82.637781  82.272340  82.435827  10594344.0  "
      ]
     },
     "execution_count": 6,
     "metadata": {},
     "output_type": "execute_result"
    }
   ],
   "source": [
    "style.use('ggplot')\n",
    "# quandl api key activation\n",
    "ql.ApiConfig.api_key = open(\"ql_api_token.txt\").read()\n"
   ]
  },
  {
   "cell_type": "markdown",
   "metadata": {},
   "source": []
  },
  {
   "cell_type": "code",
   "execution_count": null,
   "metadata": {},
   "outputs": [],
   "source": [
    "# Start: 1st trading day in 2014 \n",
    "start = dt.datetime(2014,1,2)\n",
    "# latest close date \n",
    "end = date.today()\n",
    "# Using quandl api to retrieve historical data on ticker MSFT (Microsoft)\n",
    "eod_msft_data = ql.get('EOD/MSFT', start_date=start, end_date=end)\n",
    "# eod_msft_data.head()\n",
    "eod_msft_data.tail()\n",
    "# Free EOD data is limited to end of 2017"
   ]
  },
  {
   "cell_type": "code",
   "execution_count": 25,
   "metadata": {},
   "outputs": [
    {
     "name": "stdout",
     "output_type": "stream",
     "text": [
      "<class 'pandas.core.frame.DataFrame'>\n",
      "DatetimeIndex: 1006 entries, 2014-01-02 to 2017-12-28\n",
      "Data columns (total 2 columns):\n",
      " #   Column     Non-Null Count  Dtype  \n",
      "---  ------     --------------  -----  \n",
      " 0   Volume     1006 non-null   float64\n",
      " 1   Adj_Close  1006 non-null   float64\n",
      "dtypes: float64(2)\n",
      "memory usage: 23.6 KB\n"
     ]
    }
   ],
   "source": [
    "# trim down dataframe to necessary columns\n",
    "adj_close_msft_2017 = eod_msft_data[['Volume','Adj_Close']] \n",
    "adj_close_msft_2017.info()"
   ]
  },
  {
   "cell_type": "code",
   "execution_count": 32,
   "metadata": {},
   "outputs": [
    {
     "name": "stdout",
     "output_type": "stream",
     "text": [
      "[*********************100%***********************]  1 of 1 completed\n"
     ]
    }
   ],
   "source": [
    "# Get remaining data from Yahoo Finance\n",
    "msft_yf= yf.download('MSFT',start='2018-01-02',end='2019-12-28')\n",
    "# msft_yf.head()\n"
   ]
  },
  {
   "cell_type": "code",
   "execution_count": 33,
   "metadata": {},
   "outputs": [
    {
     "data": {
      "text/html": [
       "<div>\n",
       "<style scoped>\n",
       "    .dataframe tbody tr th:only-of-type {\n",
       "        vertical-align: middle;\n",
       "    }\n",
       "\n",
       "    .dataframe tbody tr th {\n",
       "        vertical-align: top;\n",
       "    }\n",
       "\n",
       "    .dataframe thead th {\n",
       "        text-align: right;\n",
       "    }\n",
       "</style>\n",
       "<table border=\"1\" class=\"dataframe\">\n",
       "  <thead>\n",
       "    <tr style=\"text-align: right;\">\n",
       "      <th></th>\n",
       "      <th>Open</th>\n",
       "      <th>High</th>\n",
       "      <th>Low</th>\n",
       "      <th>Close</th>\n",
       "      <th>Adj_Close</th>\n",
       "      <th>Volume</th>\n",
       "    </tr>\n",
       "    <tr>\n",
       "      <th>Date</th>\n",
       "      <th></th>\n",
       "      <th></th>\n",
       "      <th></th>\n",
       "      <th></th>\n",
       "      <th></th>\n",
       "      <th></th>\n",
       "    </tr>\n",
       "  </thead>\n",
       "  <tbody>\n",
       "    <tr>\n",
       "      <th>2018-01-02</th>\n",
       "      <td>86.129997</td>\n",
       "      <td>86.309998</td>\n",
       "      <td>85.500000</td>\n",
       "      <td>85.949997</td>\n",
       "      <td>82.383636</td>\n",
       "      <td>22483800</td>\n",
       "    </tr>\n",
       "    <tr>\n",
       "      <th>2018-01-03</th>\n",
       "      <td>86.059998</td>\n",
       "      <td>86.510002</td>\n",
       "      <td>85.970001</td>\n",
       "      <td>86.349998</td>\n",
       "      <td>82.767044</td>\n",
       "      <td>26061400</td>\n",
       "    </tr>\n",
       "    <tr>\n",
       "      <th>2018-01-04</th>\n",
       "      <td>86.589996</td>\n",
       "      <td>87.660004</td>\n",
       "      <td>86.570000</td>\n",
       "      <td>87.110001</td>\n",
       "      <td>83.495522</td>\n",
       "      <td>21912000</td>\n",
       "    </tr>\n",
       "    <tr>\n",
       "      <th>2018-01-05</th>\n",
       "      <td>87.660004</td>\n",
       "      <td>88.410004</td>\n",
       "      <td>87.430000</td>\n",
       "      <td>88.190002</td>\n",
       "      <td>84.530701</td>\n",
       "      <td>23407100</td>\n",
       "    </tr>\n",
       "    <tr>\n",
       "      <th>2018-01-08</th>\n",
       "      <td>88.199997</td>\n",
       "      <td>88.580002</td>\n",
       "      <td>87.599998</td>\n",
       "      <td>88.279999</td>\n",
       "      <td>84.616966</td>\n",
       "      <td>22113000</td>\n",
       "    </tr>\n",
       "  </tbody>\n",
       "</table>\n",
       "</div>"
      ],
      "text/plain": [
       "                 Open       High        Low      Close  Adj_Close    Volume\n",
       "Date                                                                       \n",
       "2018-01-02  86.129997  86.309998  85.500000  85.949997  82.383636  22483800\n",
       "2018-01-03  86.059998  86.510002  85.970001  86.349998  82.767044  26061400\n",
       "2018-01-04  86.589996  87.660004  86.570000  87.110001  83.495522  21912000\n",
       "2018-01-05  87.660004  88.410004  87.430000  88.190002  84.530701  23407100\n",
       "2018-01-08  88.199997  88.580002  87.599998  88.279999  84.616966  22113000"
      ]
     },
     "execution_count": 33,
     "metadata": {},
     "output_type": "execute_result"
    }
   ],
   "source": [
    "msft_yf.columns = ['Open','High','Low','Close','Adj_Close','Volume']\n",
    "msft_yf.head()"
   ]
  },
  {
   "cell_type": "code",
   "execution_count": 24,
   "metadata": {},
   "outputs": [
    {
     "name": "stdout",
     "output_type": "stream",
     "text": [
      "<class 'pandas.core.frame.DataFrame'>\n",
      "DatetimeIndex: 501 entries, 2018-01-02 to 2019-12-27\n",
      "Data columns (total 2 columns):\n",
      " #   Column     Non-Null Count  Dtype  \n",
      "---  ------     --------------  -----  \n",
      " 0   Adj_Close  501 non-null    float64\n",
      " 1   Volume     501 non-null    int64  \n",
      "dtypes: float64(1), int64(1)\n",
      "memory usage: 11.7 KB\n"
     ]
    }
   ],
   "source": [
    "adj_close_msft_2019 = msft_yf[['Adj_Close','Volume']]\n",
    "adj_close_msft_2019.info()"
   ]
  },
  {
   "cell_type": "code",
   "execution_count": 23,
   "metadata": {},
   "outputs": [
    {
     "name": "stdout",
     "output_type": "stream",
     "text": [
      "<class 'pandas.core.frame.DataFrame'>\n",
      "DatetimeIndex: 1507 entries, 2014-01-02 to 2019-12-27\n",
      "Data columns (total 2 columns):\n",
      " #   Column     Non-Null Count  Dtype  \n",
      "---  ------     --------------  -----  \n",
      " 0   Volume     1507 non-null   float64\n",
      " 1   Adj_Close  1507 non-null   float64\n",
      "dtypes: float64(2)\n",
      "memory usage: 35.3 KB\n"
     ]
    }
   ],
   "source": [
    "# concatenate dataframes\n",
    "adj_close_msft_merged = adj_close_msft_2017.append(adj_close_msft_2019)\n",
    "adj_close_msft_merged.info()"
   ]
  },
  {
   "cell_type": "code",
   "execution_count": 27,
   "metadata": {},
   "outputs": [
    {
     "data": {
      "text/plain": [
       "<matplotlib.axes._subplots.AxesSubplot at 0x1ef10f7f250>"
      ]
     },
     "execution_count": 27,
     "metadata": {},
     "output_type": "execute_result"
    },
    {
     "data": {
      "image/png": "[encoded data removed]",
      "text/plain": [
       "<Figure size 432x288 with 1 Axes>"
      ]
     },
     "metadata": {
      "needs_background": "light"
     },
     "output_type": "display_data"
    }
   ],
   "source": [
    "adj_close_msft_merged['Adj_Close'].plot()"
   ]
  },
  {
   "cell_type": "markdown",
   "metadata": {},
   "source": [
    "We can plot multiple plots into one plot by using subplot, and get the adjusted closing value, the 100 day moving average and trading volume on the same plot. "
   ]
  },
  {
   "cell_type": "code",
   "execution_count": 30,
   "metadata": {},
   "outputs": [
    {
     "data": {
      "image/png": "[encoded data removed]",
      "text/plain": [
       "<Figure size 432x288 with 2 Axes>"
      ]
     },
     "metadata": {
      "needs_background": "light"
     },
     "output_type": "display_data"
    }
   ],
   "source": [
    "ax1 = plt.subplot2grid((6,1), (0,0), rowspan=5, colspan=1)\n",
    "ax2 = plt.subplot2grid((6,1), (5,0), rowspan=1, colspan=1,sharex=ax1)\n",
    "ax1.plot(adj_close_msft_merged.index, adj_close_msft_merged['Adj_Close'])\n",
    "ax2.plot(adj_close_msft_merged.index, adj_close_msft_merged['Volume'])\n",
    "ax1.set_title('Microsoft closing price in USD(2014-2019)')\n",
    "ax1.set(ylabel='Share price in USD')\n",
    "ax2.set(ylabel='Volume')\n",
    "ax2.set(xlabel='Year')\n",
    "\n",
    "plt.show()"
   ]
  },
  {
   "cell_type": "markdown",
   "metadata": {},
   "source": [
    "As shown above, the graph shows an exponential rise in share value with the 100 day moving average "
   ]
  },
  {
   "cell_type": "code",
   "execution_count": 35,
   "metadata": {},
   "outputs": [
    {
     "name": "stdout",
     "output_type": "stream",
     "text": [
      "                  open        high         low       close\n",
      "Date                                                      \n",
      "2019-11-12  145.034821  148.308868  145.034821  147.913040\n",
      "2019-11-22  148.021912  150.723297  148.021912  149.793152\n",
      "2019-12-02  147.982330  150.159271  147.744843  150.109772\n",
      "2019-12-12  151.633667  155.759949  151.633667  155.759949\n",
      "2019-12-22  155.759949  157.293686  155.730255  157.293686\n"
     ]
    }
   ],
   "source": [
    "# Daily prices including highs and lows with volume for hockeystick graph\n",
    "full_msft_df = eod_msft_data[['Open','High','Low','Close','Adj_Close','Volume']].append(msft_yf)\n",
    "# Creating a candle-stick graph\n",
    "# If a stock underwent a split, you'd have to create a new dataset based on the Adjusted Close values.\n",
    "df_ohlc = full_msft_df['Adj_Close'].resample('10D').ohlc()\n",
    "df_vol = full_msft_df['Volume'].resample('10D').sum()\n",
    "print (df_ohlc.tail())"
   ]
  },
  {
   "cell_type": "code",
   "execution_count": 36,
   "metadata": {},
   "outputs": [
    {
     "data": {
      "image/png": "[encoded data removed]",
      "text/plain": [
       "<Figure size 800x575 with 2 Axes>"
      ]
     },
     "metadata": {},
     "output_type": "display_data"
    }
   ],
   "source": [
    "mpf.plot(\n",
    "    df_ohlc, \n",
    "    type='candlestick',\n",
    "    style='charles',\n",
    "    ylabel='Price (USD)')\n"
   ]
  },
  {
   "cell_type": "markdown",
   "metadata": {},
   "source": [
    "This is just a static candlestick graph that shows all the trading action since 2015. The red candles depict selling of the stock, the green indicates buying. "
   ]
  }
 ],
 "metadata": {
  "kernelspec": {
   "display_name": "Python 3",
   "language": "python",
   "name": "python3"
  },
  "language_info": {
   "codemirror_mode": {
    "name": "ipython",
    "version": 3
   },
   "file_extension": ".py",
   "mimetype": "text/x-python",
   "name": "python",
   "nbconvert_exporter": "python",
   "pygments_lexer": "ipython3",
   "version": "3.8.3"
  }
 },
 "nbformat": 4,
 "nbformat_minor": 4
}
