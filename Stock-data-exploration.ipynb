{
 "cells": [
  {
   "cell_type": "code",
   "execution_count": 17,
   "metadata": {},
   "outputs": [],
   "source": [
    "import os\n",
    "import pandas as pd\n",
    "import numpy as np\n",
    "import pip\n",
    "# visualization \n",
    "%matplotlib inline\n",
    "import matplotlib.pyplot as plt\n",
    "from matplotlib import style\n",
    "\n",
    "# store serialized object locally\n",
    "import pickle \n",
    "\n",
    "import datetime as dt\n",
    "from datetime import timedelta \n",
    "from datetime import date\n",
    "\n",
    "# plotting candlestick graphs\n",
    "# import mplfinance as mpf\n",
    "try:\n",
    "    __import__ ('plotly')\n",
    "except ImportError:\n",
    "    pip.main(['install','plotly'])\n",
    "from plotly import graph_objects as go\n",
    "import plotly.express as px\n",
    "\n",
    "# stock data api\n",
    "# from iexfinance.stocks import Stock\n",
    "# from iexfinance.stocks import get_historical_data\n",
    "import quandl as ql\n",
    "import yfinance as yf\n",
    "\n",
    "# Stats tools for performing stationarity tests and visualization of time series\n",
    "# from pmdarima.arima import ADFTest\n",
    "# from pmdarima.arima import auto_arima\n",
    "from statsmodels.tsa.stattools import adfuller\n",
    "from statsmodels.tsa.seasonal import seasonal_decompose\n",
    "from statsmodels.tsa.stattools import acf, pacf\n",
    "from statsmodels.graphics.tsaplots import plot_acf, plot_pacf\n",
    "\n",
    "import sklearn\n",
    "# model evaluation\n",
    "from sklearn.metrics import mean_squared_error, mean_absolute_error"
   ]
  },
  {
   "cell_type": "code",
   "execution_count": 2,
   "metadata": {
    "scrolled": true
   },
   "outputs": [],
   "source": [
    "style.use('ggplot')\n",
    "# quandl api key activation\n",
    "ql.ApiConfig.api_key = open(\"ql_api_token.txt\").read()\n"
   ]
  },
  {
   "cell_type": "markdown",
   "metadata": {},
   "source": [
    "### TO-DO:\n",
    "Introduction section to be filled out to give background story on what's being performed here"
   ]
  },
  {
   "cell_type": "code",
   "execution_count": 3,
   "metadata": {},
   "outputs": [
    {
     "data": {
      "text/html": [
       "<div>\n",
       "<style scoped>\n",
       "    .dataframe tbody tr th:only-of-type {\n",
       "        vertical-align: middle;\n",
       "    }\n",
       "\n",
       "    .dataframe tbody tr th {\n",
       "        vertical-align: top;\n",
       "    }\n",
       "\n",
       "    .dataframe thead th {\n",
       "        text-align: right;\n",
       "    }\n",
       "</style>\n",
       "<table border=\"1\" class=\"dataframe\">\n",
       "  <thead>\n",
       "    <tr style=\"text-align: right;\">\n",
       "      <th></th>\n",
       "      <th>Open</th>\n",
       "      <th>High</th>\n",
       "      <th>Low</th>\n",
       "      <th>Close</th>\n",
       "      <th>Volume</th>\n",
       "      <th>Dividend</th>\n",
       "      <th>Split</th>\n",
       "      <th>Adj_Open</th>\n",
       "      <th>Adj_High</th>\n",
       "      <th>Adj_Low</th>\n",
       "      <th>Adj_Close</th>\n",
       "      <th>Adj_Volume</th>\n",
       "    </tr>\n",
       "    <tr>\n",
       "      <th>Date</th>\n",
       "      <th></th>\n",
       "      <th></th>\n",
       "      <th></th>\n",
       "      <th></th>\n",
       "      <th></th>\n",
       "      <th></th>\n",
       "      <th></th>\n",
       "      <th></th>\n",
       "      <th></th>\n",
       "      <th></th>\n",
       "      <th></th>\n",
       "      <th></th>\n",
       "    </tr>\n",
       "  </thead>\n",
       "  <tbody>\n",
       "    <tr>\n",
       "      <th>2017-12-21</th>\n",
       "      <td>86.05</td>\n",
       "      <td>86.1000</td>\n",
       "      <td>85.400</td>\n",
       "      <td>85.50</td>\n",
       "      <td>17990745.0</td>\n",
       "      <td>0.0</td>\n",
       "      <td>1.0</td>\n",
       "      <td>82.753184</td>\n",
       "      <td>82.801268</td>\n",
       "      <td>82.128087</td>\n",
       "      <td>82.224256</td>\n",
       "      <td>17990745.0</td>\n",
       "    </tr>\n",
       "    <tr>\n",
       "      <th>2017-12-22</th>\n",
       "      <td>85.40</td>\n",
       "      <td>85.6300</td>\n",
       "      <td>84.920</td>\n",
       "      <td>85.51</td>\n",
       "      <td>14145841.0</td>\n",
       "      <td>0.0</td>\n",
       "      <td>1.0</td>\n",
       "      <td>82.128087</td>\n",
       "      <td>82.349275</td>\n",
       "      <td>81.666477</td>\n",
       "      <td>82.233873</td>\n",
       "      <td>14145841.0</td>\n",
       "    </tr>\n",
       "    <tr>\n",
       "      <th>2017-12-26</th>\n",
       "      <td>85.31</td>\n",
       "      <td>85.5346</td>\n",
       "      <td>85.030</td>\n",
       "      <td>85.40</td>\n",
       "      <td>9891237.0</td>\n",
       "      <td>0.0</td>\n",
       "      <td>1.0</td>\n",
       "      <td>82.041535</td>\n",
       "      <td>82.257530</td>\n",
       "      <td>81.772263</td>\n",
       "      <td>82.128087</td>\n",
       "      <td>9891237.0</td>\n",
       "    </tr>\n",
       "    <tr>\n",
       "      <th>2017-12-27</th>\n",
       "      <td>85.65</td>\n",
       "      <td>85.9800</td>\n",
       "      <td>85.215</td>\n",
       "      <td>85.71</td>\n",
       "      <td>14678025.0</td>\n",
       "      <td>0.0</td>\n",
       "      <td>1.0</td>\n",
       "      <td>82.368509</td>\n",
       "      <td>82.685866</td>\n",
       "      <td>81.950175</td>\n",
       "      <td>82.426210</td>\n",
       "      <td>14678025.0</td>\n",
       "    </tr>\n",
       "    <tr>\n",
       "      <th>2017-12-28</th>\n",
       "      <td>85.90</td>\n",
       "      <td>85.9300</td>\n",
       "      <td>85.550</td>\n",
       "      <td>85.72</td>\n",
       "      <td>10594344.0</td>\n",
       "      <td>0.0</td>\n",
       "      <td>1.0</td>\n",
       "      <td>82.608931</td>\n",
       "      <td>82.637781</td>\n",
       "      <td>82.272340</td>\n",
       "      <td>82.435827</td>\n",
       "      <td>10594344.0</td>\n",
       "    </tr>\n",
       "  </tbody>\n",
       "</table>\n",
       "</div>"
      ],
      "text/plain": [
       "             Open     High     Low  Close      Volume  Dividend  Split  \\\n",
       "Date                                                                     \n",
       "2017-12-21  86.05  86.1000  85.400  85.50  17990745.0       0.0    1.0   \n",
       "2017-12-22  85.40  85.6300  84.920  85.51  14145841.0       0.0    1.0   \n",
       "2017-12-26  85.31  85.5346  85.030  85.40   9891237.0       0.0    1.0   \n",
       "2017-12-27  85.65  85.9800  85.215  85.71  14678025.0       0.0    1.0   \n",
       "2017-12-28  85.90  85.9300  85.550  85.72  10594344.0       0.0    1.0   \n",
       "\n",
       "             Adj_Open   Adj_High    Adj_Low  Adj_Close  Adj_Volume  \n",
       "Date                                                                \n",
       "2017-12-21  82.753184  82.801268  82.128087  82.224256  17990745.0  \n",
       "2017-12-22  82.128087  82.349275  81.666477  82.233873  14145841.0  \n",
       "2017-12-26  82.041535  82.257530  81.772263  82.128087   9891237.0  \n",
       "2017-12-27  82.368509  82.685866  81.950175  82.426210  14678025.0  \n",
       "2017-12-28  82.608931  82.637781  82.272340  82.435827  10594344.0  "
      ]
     },
     "execution_count": 3,
     "metadata": {},
     "output_type": "execute_result"
    }
   ],
   "source": [
    "# Start: 1st trading day in 2014 \n",
    "start = dt.datetime(2014,1,2)\n",
    "# latest close date \n",
    "end = date.today()\n",
    "# Using quandl api to retrieve historical data on ticker MSFT (Microsoft)\n",
    "eod_msft_data = ql.get('EOD/MSFT', start_date=start, end_date=end)\n",
    "# eod_msft_data.head()\n",
    "eod_msft_data.tail()\n",
    "# Free EOD data is limited to end of 2017"
   ]
  },
  {
   "cell_type": "code",
   "execution_count": 4,
   "metadata": {},
   "outputs": [
    {
     "data": {
      "text/plain": [
       "False"
      ]
     },
     "execution_count": 4,
     "metadata": {},
     "output_type": "execute_result"
    }
   ],
   "source": [
    "# Check for any null values in dataset \n",
    "eod_msft_data.isnull().values.any() "
   ]
  },
  {
   "cell_type": "code",
   "execution_count": 5,
   "metadata": {},
   "outputs": [
    {
     "name": "stdout",
     "output_type": "stream",
     "text": [
      "<class 'pandas.core.frame.DataFrame'>\n",
      "DatetimeIndex: 1006 entries, 2014-01-02 to 2017-12-28\n",
      "Data columns (total 2 columns):\n",
      " #   Column     Non-Null Count  Dtype  \n",
      "---  ------     --------------  -----  \n",
      " 0   Volume     1006 non-null   float64\n",
      " 1   Adj_Close  1006 non-null   float64\n",
      "dtypes: float64(2)\n",
      "memory usage: 23.6 KB\n"
     ]
    }
   ],
   "source": [
    "# trim down dataframe to necessary columns\n",
    "adj_close_msft_2017 = eod_msft_data[['Volume','Adj_Close']] \n",
    "adj_close_msft_2017.info()"
   ]
  },
  {
   "cell_type": "code",
   "execution_count": 6,
   "metadata": {},
   "outputs": [
    {
     "name": "stdout",
     "output_type": "stream",
     "text": [
      "[*********************100%***********************]  1 of 1 completed\n"
     ]
    }
   ],
   "source": [
    "# Get remaining data from Yahoo Finance\n",
    "ticker = 'MSFT'\n",
    "# if os.path.exists(ticker+'.pickle'):\n",
    "#     with open(ticker+'.pickle', 'rb') as handle:\n",
    "#     file_ = pickle.load(handle)\n",
    "#     print(file_)\n",
    "# else:\n",
    "#     msft_yf= yf.download(ticker,start='2018-01-02',end='2019-12-28')\n",
    "#     with open(ticker+'.pickle', 'wb') as handle:\n",
    "#         pickle.dump(msft_yf, handle)\n",
    "\n",
    "msft_yf= yf.download(ticker,start='2018-01-02',end='2019-12-28')"
   ]
  },
  {
   "cell_type": "code",
   "execution_count": 7,
   "metadata": {},
   "outputs": [
    {
     "data": {
      "text/html": [
       "<div>\n",
       "<style scoped>\n",
       "    .dataframe tbody tr th:only-of-type {\n",
       "        vertical-align: middle;\n",
       "    }\n",
       "\n",
       "    .dataframe tbody tr th {\n",
       "        vertical-align: top;\n",
       "    }\n",
       "\n",
       "    .dataframe thead th {\n",
       "        text-align: right;\n",
       "    }\n",
       "</style>\n",
       "<table border=\"1\" class=\"dataframe\">\n",
       "  <thead>\n",
       "    <tr style=\"text-align: right;\">\n",
       "      <th></th>\n",
       "      <th>Open</th>\n",
       "      <th>High</th>\n",
       "      <th>Low</th>\n",
       "      <th>Close</th>\n",
       "      <th>Adj_Close</th>\n",
       "      <th>Volume</th>\n",
       "    </tr>\n",
       "    <tr>\n",
       "      <th>Date</th>\n",
       "      <th></th>\n",
       "      <th></th>\n",
       "      <th></th>\n",
       "      <th></th>\n",
       "      <th></th>\n",
       "      <th></th>\n",
       "    </tr>\n",
       "  </thead>\n",
       "  <tbody>\n",
       "    <tr>\n",
       "      <th>2018-01-02</th>\n",
       "      <td>86.129997</td>\n",
       "      <td>86.309998</td>\n",
       "      <td>85.500000</td>\n",
       "      <td>85.949997</td>\n",
       "      <td>82.383636</td>\n",
       "      <td>22483800</td>\n",
       "    </tr>\n",
       "    <tr>\n",
       "      <th>2018-01-03</th>\n",
       "      <td>86.059998</td>\n",
       "      <td>86.510002</td>\n",
       "      <td>85.970001</td>\n",
       "      <td>86.349998</td>\n",
       "      <td>82.767044</td>\n",
       "      <td>26061400</td>\n",
       "    </tr>\n",
       "    <tr>\n",
       "      <th>2018-01-04</th>\n",
       "      <td>86.589996</td>\n",
       "      <td>87.660004</td>\n",
       "      <td>86.570000</td>\n",
       "      <td>87.110001</td>\n",
       "      <td>83.495522</td>\n",
       "      <td>21912000</td>\n",
       "    </tr>\n",
       "    <tr>\n",
       "      <th>2018-01-05</th>\n",
       "      <td>87.660004</td>\n",
       "      <td>88.410004</td>\n",
       "      <td>87.430000</td>\n",
       "      <td>88.190002</td>\n",
       "      <td>84.530701</td>\n",
       "      <td>23407100</td>\n",
       "    </tr>\n",
       "    <tr>\n",
       "      <th>2018-01-08</th>\n",
       "      <td>88.199997</td>\n",
       "      <td>88.580002</td>\n",
       "      <td>87.599998</td>\n",
       "      <td>88.279999</td>\n",
       "      <td>84.616966</td>\n",
       "      <td>22113000</td>\n",
       "    </tr>\n",
       "  </tbody>\n",
       "</table>\n",
       "</div>"
      ],
      "text/plain": [
       "                 Open       High        Low      Close  Adj_Close    Volume\n",
       "Date                                                                       \n",
       "2018-01-02  86.129997  86.309998  85.500000  85.949997  82.383636  22483800\n",
       "2018-01-03  86.059998  86.510002  85.970001  86.349998  82.767044  26061400\n",
       "2018-01-04  86.589996  87.660004  86.570000  87.110001  83.495522  21912000\n",
       "2018-01-05  87.660004  88.410004  87.430000  88.190002  84.530701  23407100\n",
       "2018-01-08  88.199997  88.580002  87.599998  88.279999  84.616966  22113000"
      ]
     },
     "execution_count": 7,
     "metadata": {},
     "output_type": "execute_result"
    }
   ],
   "source": [
    "msft_yf.columns = ['Open','High','Low','Close','Adj_Close','Volume']\n",
    "msft_yf.head()"
   ]
  },
  {
   "cell_type": "code",
   "execution_count": 8,
   "metadata": {},
   "outputs": [
    {
     "data": {
      "text/plain": [
       "False"
      ]
     },
     "execution_count": 8,
     "metadata": {},
     "output_type": "execute_result"
    }
   ],
   "source": [
    "# Check for any null values in dataset \n",
    "msft_yf.isnull().values.any() "
   ]
  },
  {
   "cell_type": "code",
   "execution_count": 9,
   "metadata": {},
   "outputs": [
    {
     "name": "stdout",
     "output_type": "stream",
     "text": [
      "<class 'pandas.core.frame.DataFrame'>\n",
      "DatetimeIndex: 501 entries, 2018-01-02 to 2019-12-27\n",
      "Data columns (total 2 columns):\n",
      " #   Column     Non-Null Count  Dtype  \n",
      "---  ------     --------------  -----  \n",
      " 0   Adj_Close  501 non-null    float64\n",
      " 1   Volume     501 non-null    int64  \n",
      "dtypes: float64(1), int64(1)\n",
      "memory usage: 11.7 KB\n"
     ]
    }
   ],
   "source": [
    "adj_close_msft_2019 = msft_yf[['Adj_Close','Volume']]\n",
    "adj_close_msft_2019.info()"
   ]
  },
  {
   "cell_type": "code",
   "execution_count": 10,
   "metadata": {},
   "outputs": [
    {
     "data": {
      "text/html": [
       "<div>\n",
       "<style scoped>\n",
       "    .dataframe tbody tr th:only-of-type {\n",
       "        vertical-align: middle;\n",
       "    }\n",
       "\n",
       "    .dataframe tbody tr th {\n",
       "        vertical-align: top;\n",
       "    }\n",
       "\n",
       "    .dataframe thead th {\n",
       "        text-align: right;\n",
       "    }\n",
       "</style>\n",
       "<table border=\"1\" class=\"dataframe\">\n",
       "  <thead>\n",
       "    <tr style=\"text-align: right;\">\n",
       "      <th></th>\n",
       "      <th>Volume</th>\n",
       "      <th>Adj_Close</th>\n",
       "    </tr>\n",
       "  </thead>\n",
       "  <tbody>\n",
       "    <tr>\n",
       "      <th>count</th>\n",
       "      <td>1.507000e+03</td>\n",
       "      <td>1507.000000</td>\n",
       "    </tr>\n",
       "    <tr>\n",
       "      <th>mean</th>\n",
       "      <td>2.984602e+07</td>\n",
       "      <td>70.767231</td>\n",
       "    </tr>\n",
       "    <tr>\n",
       "      <th>std</th>\n",
       "      <td>1.448462e+07</td>\n",
       "      <td>33.389563</td>\n",
       "    </tr>\n",
       "    <tr>\n",
       "      <th>min</th>\n",
       "      <td>7.425603e+06</td>\n",
       "      <td>30.356224</td>\n",
       "    </tr>\n",
       "    <tr>\n",
       "      <th>25%</th>\n",
       "      <td>2.128605e+07</td>\n",
       "      <td>42.325807</td>\n",
       "    </tr>\n",
       "    <tr>\n",
       "      <th>50%</th>\n",
       "      <td>2.664930e+07</td>\n",
       "      <td>58.911296</td>\n",
       "    </tr>\n",
       "    <tr>\n",
       "      <th>75%</th>\n",
       "      <td>3.408979e+07</td>\n",
       "      <td>97.830582</td>\n",
       "    </tr>\n",
       "    <tr>\n",
       "      <th>max</th>\n",
       "      <td>2.025224e+08</td>\n",
       "      <td>157.293686</td>\n",
       "    </tr>\n",
       "  </tbody>\n",
       "</table>\n",
       "</div>"
      ],
      "text/plain": [
       "             Volume    Adj_Close\n",
       "count  1.507000e+03  1507.000000\n",
       "mean   2.984602e+07    70.767231\n",
       "std    1.448462e+07    33.389563\n",
       "min    7.425603e+06    30.356224\n",
       "25%    2.128605e+07    42.325807\n",
       "50%    2.664930e+07    58.911296\n",
       "75%    3.408979e+07    97.830582\n",
       "max    2.025224e+08   157.293686"
      ]
     },
     "execution_count": 10,
     "metadata": {},
     "output_type": "execute_result"
    }
   ],
   "source": [
    "# concatenate dataframes\n",
    "adj_close_msft_merged = adj_close_msft_2017.append(adj_close_msft_2019)\n",
    "adj_close_msft_merged.describe()"
   ]
  },
  {
   "cell_type": "markdown",
   "metadata": {},
   "source": [
    "Training was designated as all adjusted close data prior to 2019. Adjusted close price was used here because this price is adjusted for the dividends and stock splits that it may have occurred over the selected period of time."
   ]
  },
  {
   "cell_type": "code",
   "execution_count": 11,
   "metadata": {},
   "outputs": [
    {
     "data": {
      "text/plain": [
       "count    1257.000000\n",
       "mean       59.392671\n",
       "std        22.617686\n",
       "min        30.356224\n",
       "25%        41.250668\n",
       "50%        51.116426\n",
       "75%        71.705902\n",
       "max       112.246353\n",
       "Name: Adj_Close, dtype: float64"
      ]
     },
     "execution_count": 11,
     "metadata": {},
     "output_type": "execute_result"
    }
   ],
   "source": [
    "# test/train data split\n",
    "train = adj_close_msft_merged['Adj_Close'][:'2018-12-31']\n",
    "test = adj_close_msft_merged['Adj_Close']['2019-01-01':]\n",
    "train.describe()"
   ]
  },
  {
   "cell_type": "code",
   "execution_count": 12,
   "metadata": {},
   "outputs": [
    {
     "data": {
      "image/png": "[encoded data removed]",
      "text/plain": [
       "<Figure size 432x288 with 2 Axes>"
      ]
     },
     "metadata": {},
     "output_type": "display_data"
    }
   ],
   "source": [
    "# Plot training and testing data \n",
    "ax1 = plt.subplot2grid((6,1), (0,0), rowspan=5, colspan=1)\n",
    "ax2 = plt.subplot2grid((6,1), (5,0), rowspan=1, colspan=1,sharex=ax1)\n",
    "ax1.plot( train, label='train')\n",
    "ax1.plot( test, label='test')\n",
    "ax2.plot(adj_close_msft_merged['Volume'],color='red')\n",
    "ax1.set_title('Microsoft closing price in USD(2014-2019)')\n",
    "ax1.set(ylabel='Share price in USD')\n",
    "ax2.set(ylabel='Volume')\n",
    "ax2.set(xlabel='Year')\n",
    "leg1 = ax1.legend(loc='lower right')\n",
    "ax1.add_artist(leg1)\n",
    "plt.show()"
   ]
  },
  {
   "cell_type": "code",
   "execution_count": 13,
   "metadata": {},
   "outputs": [
    {
     "name": "stdout",
     "output_type": "stream",
     "text": [
      "                  open        high         low       close\n",
      "Date                                                      \n",
      "2019-11-12  145.034821  148.308868  145.034821  147.913040\n",
      "2019-11-22  148.021912  150.723297  148.021912  149.793152\n",
      "2019-12-02  147.982330  150.159271  147.744843  150.109772\n",
      "2019-12-12  151.633667  155.759949  151.633667  155.759949\n",
      "2019-12-22  155.759949  157.293686  155.730255  157.293686\n"
     ]
    }
   ],
   "source": [
    "# Daily prices including highs and lows with volume for hockeystick graph\n",
    "full_msft_df = eod_msft_data[['Open','High','Low','Close','Adj_Close','Volume']].append(msft_yf)\n",
    "# Creating a candle-stick graph\n",
    "# If a stock underwent a split, you'd have to create a new dataset based on the Adjusted Close values.\n",
    "df_ohlc = full_msft_df['Adj_Close'].resample('10D').ohlc()\n",
    "df_vol = full_msft_df['Volume'].resample('10D').sum()\n",
    "print (df_ohlc.tail())"
   ]
  },
  {
   "cell_type": "code",
   "execution_count": 20,
   "metadata": {},
   "outputs": [
    {
     "ename": "NotImplementedError",
     "evalue": "See issue #11704 https://github.com/pandas-dev/pandas/issues/11704",
     "output_type": "error",
     "traceback": [
      "\u001b[1;31m---------------------------------------------------------------------------\u001b[0m",
      "\u001b[1;31mNotImplementedError\u001b[0m                       Traceback (most recent call last)",
      "\u001b[1;32m<ipython-input-20-25fcbd4a615b>\u001b[0m in \u001b[0;36m<module>\u001b[1;34m\u001b[0m\n\u001b[1;32m----> 1\u001b[1;33m \u001b[0mfull_msft_df\u001b[0m\u001b[1;33m[\u001b[0m\u001b[1;34m'5d-sma'\u001b[0m\u001b[1;33m]\u001b[0m \u001b[1;33m=\u001b[0m \u001b[0mfull_msft_df\u001b[0m\u001b[1;33m[\u001b[0m\u001b[1;34m'Adj_Close'\u001b[0m\u001b[1;33m]\u001b[0m\u001b[1;33m.\u001b[0m\u001b[0mrolling\u001b[0m\u001b[1;33m(\u001b[0m\u001b[1;36m5\u001b[0m\u001b[1;33m)\u001b[0m\u001b[1;33m\u001b[0m\u001b[1;33m\u001b[0m\u001b[0m\n\u001b[0m\u001b[0;32m      2\u001b[0m \u001b[1;31m# Training dataset using candlestick format with rangeslider to zoom into prices in a given time period.\u001b[0m\u001b[1;33m\u001b[0m\u001b[1;33m\u001b[0m\u001b[1;33m\u001b[0m\u001b[0m\n\u001b[0;32m      3\u001b[0m fig = go.Figure(data=[go.Candlestick(x=full_msft_df.index,\n\u001b[0;32m      4\u001b[0m                       \u001b[0mopen\u001b[0m\u001b[1;33m=\u001b[0m\u001b[0mfull_msft_df\u001b[0m\u001b[1;33m[\u001b[0m\u001b[1;34m'Open'\u001b[0m\u001b[1;33m]\u001b[0m\u001b[1;33m,\u001b[0m\u001b[1;33m\u001b[0m\u001b[1;33m\u001b[0m\u001b[0m\n\u001b[0;32m      5\u001b[0m                       \u001b[0mclose\u001b[0m\u001b[1;33m=\u001b[0m\u001b[0mfull_msft_df\u001b[0m\u001b[1;33m[\u001b[0m\u001b[1;34m'Close'\u001b[0m\u001b[1;33m]\u001b[0m\u001b[1;33m,\u001b[0m\u001b[1;33m\u001b[0m\u001b[1;33m\u001b[0m\u001b[0m\n",
      "\u001b[1;32m~\\anaconda3\\lib\\site-packages\\pandas\\core\\frame.py\u001b[0m in \u001b[0;36m__setitem__\u001b[1;34m(self, key, value)\u001b[0m\n\u001b[0;32m   2936\u001b[0m         \u001b[1;32melse\u001b[0m\u001b[1;33m:\u001b[0m\u001b[1;33m\u001b[0m\u001b[1;33m\u001b[0m\u001b[0m\n\u001b[0;32m   2937\u001b[0m             \u001b[1;31m# set column\u001b[0m\u001b[1;33m\u001b[0m\u001b[1;33m\u001b[0m\u001b[1;33m\u001b[0m\u001b[0m\n\u001b[1;32m-> 2938\u001b[1;33m             \u001b[0mself\u001b[0m\u001b[1;33m.\u001b[0m\u001b[0m_set_item\u001b[0m\u001b[1;33m(\u001b[0m\u001b[0mkey\u001b[0m\u001b[1;33m,\u001b[0m \u001b[0mvalue\u001b[0m\u001b[1;33m)\u001b[0m\u001b[1;33m\u001b[0m\u001b[1;33m\u001b[0m\u001b[0m\n\u001b[0m\u001b[0;32m   2939\u001b[0m \u001b[1;33m\u001b[0m\u001b[0m\n\u001b[0;32m   2940\u001b[0m     \u001b[1;32mdef\u001b[0m \u001b[0m_setitem_slice\u001b[0m\u001b[1;33m(\u001b[0m\u001b[0mself\u001b[0m\u001b[1;33m,\u001b[0m \u001b[0mkey\u001b[0m\u001b[1;33m,\u001b[0m \u001b[0mvalue\u001b[0m\u001b[1;33m)\u001b[0m\u001b[1;33m:\u001b[0m\u001b[1;33m\u001b[0m\u001b[1;33m\u001b[0m\u001b[0m\n",
      "\u001b[1;32m~\\anaconda3\\lib\\site-packages\\pandas\\core\\frame.py\u001b[0m in \u001b[0;36m_set_item\u001b[1;34m(self, key, value)\u001b[0m\n\u001b[0;32m   2998\u001b[0m \u001b[1;33m\u001b[0m\u001b[0m\n\u001b[0;32m   2999\u001b[0m         \u001b[0mself\u001b[0m\u001b[1;33m.\u001b[0m\u001b[0m_ensure_valid_index\u001b[0m\u001b[1;33m(\u001b[0m\u001b[0mvalue\u001b[0m\u001b[1;33m)\u001b[0m\u001b[1;33m\u001b[0m\u001b[1;33m\u001b[0m\u001b[0m\n\u001b[1;32m-> 3000\u001b[1;33m         \u001b[0mvalue\u001b[0m \u001b[1;33m=\u001b[0m \u001b[0mself\u001b[0m\u001b[1;33m.\u001b[0m\u001b[0m_sanitize_column\u001b[0m\u001b[1;33m(\u001b[0m\u001b[0mkey\u001b[0m\u001b[1;33m,\u001b[0m \u001b[0mvalue\u001b[0m\u001b[1;33m)\u001b[0m\u001b[1;33m\u001b[0m\u001b[1;33m\u001b[0m\u001b[0m\n\u001b[0m\u001b[0;32m   3001\u001b[0m         \u001b[0mNDFrame\u001b[0m\u001b[1;33m.\u001b[0m\u001b[0m_set_item\u001b[0m\u001b[1;33m(\u001b[0m\u001b[0mself\u001b[0m\u001b[1;33m,\u001b[0m \u001b[0mkey\u001b[0m\u001b[1;33m,\u001b[0m \u001b[0mvalue\u001b[0m\u001b[1;33m)\u001b[0m\u001b[1;33m\u001b[0m\u001b[1;33m\u001b[0m\u001b[0m\n\u001b[0;32m   3002\u001b[0m \u001b[1;33m\u001b[0m\u001b[0m\n",
      "\u001b[1;32m~\\anaconda3\\lib\\site-packages\\pandas\\core\\frame.py\u001b[0m in \u001b[0;36m_sanitize_column\u001b[1;34m(self, key, value, broadcast)\u001b[0m\n\u001b[0;32m   3631\u001b[0m             \u001b[0mvalue\u001b[0m \u001b[1;33m=\u001b[0m \u001b[0msanitize_index\u001b[0m\u001b[1;33m(\u001b[0m\u001b[0mvalue\u001b[0m\u001b[1;33m,\u001b[0m \u001b[0mself\u001b[0m\u001b[1;33m.\u001b[0m\u001b[0mindex\u001b[0m\u001b[1;33m,\u001b[0m \u001b[0mcopy\u001b[0m\u001b[1;33m=\u001b[0m\u001b[1;32mFalse\u001b[0m\u001b[1;33m)\u001b[0m\u001b[1;33m\u001b[0m\u001b[1;33m\u001b[0m\u001b[0m\n\u001b[0;32m   3632\u001b[0m \u001b[1;33m\u001b[0m\u001b[0m\n\u001b[1;32m-> 3633\u001b[1;33m         \u001b[1;32melif\u001b[0m \u001b[0misinstance\u001b[0m\u001b[1;33m(\u001b[0m\u001b[0mvalue\u001b[0m\u001b[1;33m,\u001b[0m \u001b[0mIndex\u001b[0m\u001b[1;33m)\u001b[0m \u001b[1;32mor\u001b[0m \u001b[0mis_sequence\u001b[0m\u001b[1;33m(\u001b[0m\u001b[0mvalue\u001b[0m\u001b[1;33m)\u001b[0m\u001b[1;33m:\u001b[0m\u001b[1;33m\u001b[0m\u001b[1;33m\u001b[0m\u001b[0m\n\u001b[0m\u001b[0;32m   3634\u001b[0m \u001b[1;33m\u001b[0m\u001b[0m\n\u001b[0;32m   3635\u001b[0m             \u001b[1;31m# turn me into an ndarray\u001b[0m\u001b[1;33m\u001b[0m\u001b[1;33m\u001b[0m\u001b[1;33m\u001b[0m\u001b[0m\n",
      "\u001b[1;32m~\\anaconda3\\lib\\site-packages\\pandas\\core\\dtypes\\inference.py\u001b[0m in \u001b[0;36mis_sequence\u001b[1;34m(obj)\u001b[0m\n\u001b[0;32m    418\u001b[0m \u001b[1;33m\u001b[0m\u001b[0m\n\u001b[0;32m    419\u001b[0m     \u001b[1;32mtry\u001b[0m\u001b[1;33m:\u001b[0m\u001b[1;33m\u001b[0m\u001b[1;33m\u001b[0m\u001b[0m\n\u001b[1;32m--> 420\u001b[1;33m         \u001b[0miter\u001b[0m\u001b[1;33m(\u001b[0m\u001b[0mobj\u001b[0m\u001b[1;33m)\u001b[0m  \u001b[1;31m# Can iterate over it.\u001b[0m\u001b[1;33m\u001b[0m\u001b[1;33m\u001b[0m\u001b[0m\n\u001b[0m\u001b[0;32m    421\u001b[0m         \u001b[0mlen\u001b[0m\u001b[1;33m(\u001b[0m\u001b[0mobj\u001b[0m\u001b[1;33m)\u001b[0m  \u001b[1;31m# Has a length associated with it.\u001b[0m\u001b[1;33m\u001b[0m\u001b[1;33m\u001b[0m\u001b[0m\n\u001b[0;32m    422\u001b[0m         \u001b[1;32mreturn\u001b[0m \u001b[1;32mnot\u001b[0m \u001b[0misinstance\u001b[0m\u001b[1;33m(\u001b[0m\u001b[0mobj\u001b[0m\u001b[1;33m,\u001b[0m \u001b[1;33m(\u001b[0m\u001b[0mstr\u001b[0m\u001b[1;33m,\u001b[0m \u001b[0mbytes\u001b[0m\u001b[1;33m)\u001b[0m\u001b[1;33m)\u001b[0m\u001b[1;33m\u001b[0m\u001b[1;33m\u001b[0m\u001b[0m\n",
      "\u001b[1;32m~\\anaconda3\\lib\\site-packages\\pandas\\core\\window\\rolling.py\u001b[0m in \u001b[0;36m__iter__\u001b[1;34m(self)\u001b[0m\n\u001b[0;32m    250\u001b[0m     \u001b[1;32mdef\u001b[0m \u001b[0m__iter__\u001b[0m\u001b[1;33m(\u001b[0m\u001b[0mself\u001b[0m\u001b[1;33m)\u001b[0m\u001b[1;33m:\u001b[0m\u001b[1;33m\u001b[0m\u001b[1;33m\u001b[0m\u001b[0m\n\u001b[0;32m    251\u001b[0m         \u001b[0murl\u001b[0m \u001b[1;33m=\u001b[0m \u001b[1;34m\"https://github.com/pandas-dev/pandas/issues/11704\"\u001b[0m\u001b[1;33m\u001b[0m\u001b[1;33m\u001b[0m\u001b[0m\n\u001b[1;32m--> 252\u001b[1;33m         \u001b[1;32mraise\u001b[0m \u001b[0mNotImplementedError\u001b[0m\u001b[1;33m(\u001b[0m\u001b[1;34mf\"See issue #11704 {url}\"\u001b[0m\u001b[1;33m)\u001b[0m\u001b[1;33m\u001b[0m\u001b[1;33m\u001b[0m\u001b[0m\n\u001b[0m\u001b[0;32m    253\u001b[0m \u001b[1;33m\u001b[0m\u001b[0m\n\u001b[0;32m    254\u001b[0m     \u001b[1;32mdef\u001b[0m \u001b[0m_prep_values\u001b[0m\u001b[1;33m(\u001b[0m\u001b[0mself\u001b[0m\u001b[1;33m,\u001b[0m \u001b[0mvalues\u001b[0m\u001b[1;33m:\u001b[0m \u001b[0mOptional\u001b[0m\u001b[1;33m[\u001b[0m\u001b[0mnp\u001b[0m\u001b[1;33m.\u001b[0m\u001b[0mndarray\u001b[0m\u001b[1;33m]\u001b[0m \u001b[1;33m=\u001b[0m \u001b[1;32mNone\u001b[0m\u001b[1;33m)\u001b[0m \u001b[1;33m->\u001b[0m \u001b[0mnp\u001b[0m\u001b[1;33m.\u001b[0m\u001b[0mndarray\u001b[0m\u001b[1;33m:\u001b[0m\u001b[1;33m\u001b[0m\u001b[1;33m\u001b[0m\u001b[0m\n",
      "\u001b[1;31mNotImplementedError\u001b[0m: See issue #11704 https://github.com/pandas-dev/pandas/issues/11704"
     ]
    }
   ],
   "source": [
    "full_msft_df['5d-sma'] = full_msft_df['Adj_Close'].rolling(5)\n",
    "# Training dataset using candlestick format with rangeslider to zoom into prices in a given time period. \n",
    "fig = go.Figure(data=[go.Candlestick(x=full_msft_df.index,\n",
    "                      open=full_msft_df['Open'],\n",
    "                      close=full_msft_df['Close'],\n",
    "                      high=full_msft_df['High'],\n",
    "                      low=full_msft_df['Low']\n",
    "                     )])\n",
    "fig.update_layout(\n",
    "    title='MSFT price in the last 3 years prior to 2019 as candlestick chart',\n",
    "    yaxis_title='Equity Price/USD')\n",
    "# Add a subplot that superimposes a moving average line plot\n",
    "fig.add_trace(\n",
    "    px.line(full_msft_df, x=\"Date\", y=\"5d-sma\",title=\"Moving average\")\n",
    "    )\n",
    "fig.show()\n",
    "\n"
   ]
  },
  {
   "cell_type": "markdown",
   "metadata": {},
   "source": [
    "### Properties of time series\n"
   ]
  },
  {
   "cell_type": "code",
   "execution_count": null,
   "metadata": {},
   "outputs": [],
   "source": [
    "# PLOT ACF \n",
    "lag_acf = plot_acf(train,lags=50, title='Adjusted close price')\n"
   ]
  },
  {
   "cell_type": "markdown",
   "metadata": {},
   "source": [
    "The height of each spike shows the value of the autocorrelation function for the lag.\n",
    "<br>\n",
    "The autocorrelation with lag zero always equals 1, because this represents the autocorrelation between each term and itself. Price and price with lag zero are the same variable.\n",
    "<br>\n",
    "Each spike that rises above or falls below the dashed lines is considered to be statistically significant.\n",
    "In this example, the spikes are statistically significant for lags up to 50. This means that the MSFT stock prices are highly correlated with each other. In other words, when the price of MSFT stock rises, it tends to continue rising. When the price of MSFT stock falls, it tends to continue falling."
   ]
  },
  {
   "cell_type": "code",
   "execution_count": null,
   "metadata": {},
   "outputs": [],
   "source": [
    "#PLOT PACF\n",
    "lag_pacf = plot_pacf(train, lags=40)"
   ]
  },
  {
   "cell_type": "markdown",
   "metadata": {},
   "source": []
  },
  {
   "cell_type": "markdown",
   "metadata": {},
   "source": [
    "### Testing for stationarity\n",
    "<b>H0</b>: The null hypothesis: It is a statement about the population that either is believed to be true or is used to put forth an argument unless it can be shown to be incorrect beyond a reasonable doubt, ie, it is non-stationary.\n",
    "\n",
    "<b>H1</b>: The alternative hypothesis: It is a claim about the population that is contradictory to H0 and what we conclude when we reject H0 or the time series is stationary.\n",
    "\n"
   ]
  },
  {
   "cell_type": "code",
   "execution_count": null,
   "metadata": {},
   "outputs": [],
   "source": [
    "# test timeseries for stationarity using Dickey-Fuller test\n",
    "adf_test_result = adfuller(train)\n",
    "print('ADF Statistic: %f' % adf_test_result[0])\n",
    "print('p-value: %f' % adf_test_result[1])\n",
    "for key, value in adf_test_result[4].items():\n",
    "    print('\\t%s: %.3f' % (key, value))"
   ]
  },
  {
   "cell_type": "markdown",
   "metadata": {},
   "source": [
    "### Decomposing a time series \n",
    "Decomposing a time series means separating it into its constituent components, which are usually a trend component and an irregular component, and if it is a seasonal time series, a seasonal component.\n",
    "To estimate the trend component of a non-seasonal time series that can be described using an additive model, it is common to use a smoothing method, such as calculating the simple moving average of the time series."
   ]
  },
  {
   "cell_type": "markdown",
   "metadata": {},
   "source": [
    "Here, the p-value (0.97) is greater than 0.05 so we cannot reject the Null hypothesis and has a unit root. And that the series has some time dependent features as well. \n",
    "For time series analysis, we will need to separate trend and seasonality from the time series."
   ]
  },
  {
   "cell_type": "code",
   "execution_count": null,
   "metadata": {},
   "outputs": [],
   "source": [
    "# Attempt to transform the series \n",
    "# train_tf = np.log(train)\n",
    "# Series differencing  \n",
    "train_first_diff = train.values[1:] - train.values[:-1]\n",
    "train_first_diff = np.concatenate(train_first_diff,[0])\n",
    "\n",
    "# Test to see stationarity again\n",
    "# adf_test_result = adfuller(diff_train_tf)\n",
    "# print('ADF Statistic: %f' % adf_test_result[0])\n",
    "# print('p-value: %f' % adf_test_result[1])\n",
    "# for key, value in adf_test_result[4].items():\n",
    "#     print('\\t%s: %.3f' % (key, value))"
   ]
  },
  {
   "cell_type": "code",
   "execution_count": null,
   "metadata": {},
   "outputs": [],
   "source": [
    "plot_pacf(diff_train_tf,lags=50)"
   ]
  },
  {
   "cell_type": "markdown",
   "metadata": {},
   "source": [
    "### Building the ARIMA model \n",
    "Auto-Regressive (p) -> Number of autoregressive terms. \n",
    "<br>\n",
    "Integrated (d) -> Number of nonseasonal differences needed for stationarity.\n",
    "<br>\n",
    "Moving Average (q) -> Number of lagged forecast errors in the prediction equation.\n",
    "<br>\n",
    "In the Auto-ARIMA model, note that small p,d,q values represent non-seasonal components, and capital P, D, Q represent seasonal components. It works similarly like hyperparameter tuning techniques to find the optimal value of p, d, and q with different combinations and the final values would be determined with the lower AIC, BIC parameters taking into consideration.\n",
    "<br>\n",
    "Here, we are trying with the p, d, q values ranging from 0 to 5 to get better optimal values from the model."
   ]
  },
  {
   "cell_type": "code",
   "execution_count": null,
   "metadata": {},
   "outputs": [],
   "source": [
    "arima_model = auto_arima(train_tf,m=12)\n",
    "#  determine the optimal order for the timeseries for an ARIMA model."
   ]
  },
  {
   "cell_type": "code",
   "execution_count": null,
   "metadata": {},
   "outputs": [],
   "source": [
    "print(arima_model)"
   ]
  },
  {
   "cell_type": "markdown",
   "metadata": {},
   "source": [
    "Using the auto_arima function, we have determined the parameters that would be able to describe the nature of our timeseries. \n",
    "According the function, the timeseries will require a <b>0th order moving average model</b> or MA(0)"
   ]
  },
  {
   "cell_type": "code",
   "execution_count": null,
   "metadata": {},
   "outputs": [],
   "source": []
  },
  {
   "cell_type": "code",
   "execution_count": null,
   "metadata": {},
   "outputs": [],
   "source": []
  }
 ],
 "metadata": {
  "kernelspec": {
   "display_name": "Python 3",
   "language": "python",
   "name": "python3"
  },
  "language_info": {
   "codemirror_mode": {
    "name": "ipython",
    "version": 3
   },
   "file_extension": ".py",
   "mimetype": "text/x-python",
   "name": "python",
   "nbconvert_exporter": "python",
   "pygments_lexer": "ipython3",
   "version": "3.8.3"
  }
 },
 "nbformat": 4,
 "nbformat_minor": 4
}
