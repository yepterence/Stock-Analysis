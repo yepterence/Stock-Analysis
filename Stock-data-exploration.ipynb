{
 "cells": [
  {
   "cell_type": "markdown",
   "metadata": {},
   "source": [
    "# Stock Price Forecasting \n",
    "\n"
   ]
  },
  {
   "cell_type": "markdown",
   "metadata": {},
   "source": [
    "### Problem statement:\n",
    "Forecasting how a particular equity or the index itself will perform the next day is an elusive problem that investors face on a daily basis that normally involves the study of several factors that could affect a particular company within a sector and the market as a whole. <br>\n",
    "Can we use machine learning to forecast the price of a given equity based solely on its historical price? <br>\n",
    "There are many factors that affect the equity's price valuation which include, and not limited to, irrational/rational human behavior, company news, quarterly/yearly revenue reports, analyst ratings and meeting analyst expectations to name a few. All these aspects combined, make share prices volatile and challenging to predict with a high degree of accuracy.\n",
    " Broadly, stock market analysis falls into two parts – Fundamental Analysis and Technical Analysis.\n",
    "\n",
    "- Fundamental Analysis involves analyzing the company’s future profitability on the basis of its current business environment and financial performance.\n",
    "- Technical Analysis, on the other hand, includes reading the charts and using statistical figures to identify the trends in the stock market.\n",
    "\n",
    "This notebook will focus on the technical analysis of the equity's price and will explore a few machine learning models in an attempt to predict future closing price of an equity and provide the best prediction model as well as price action recommendations using technical indicators. \n"
   ]
  },
  {
   "cell_type": "markdown",
   "metadata": {},
   "source": [
    "#### Limitations of the study:\n",
    "- The crowd is sometimes wrong.  \n",
    "- Historical performance doesn't guarantee future performance \n",
    "- Macro trends missing. \n",
    "- Subjectivity of analysis. \n",
    "\n",
    "[Investopedia](https://www.investopedia.com/articles/trading/07/technical-fundamental.asp)"
   ]
  },
  {
   "cell_type": "code",
   "execution_count": null,
   "metadata": {},
   "outputs": [],
   "source": [
    "import os\n",
    "import pandas as pd\n",
    "import numpy as np\n",
    "import pip\n",
    "# visualization \n",
    "%matplotlib inline\n",
    "import matplotlib\n",
    "import matplotlib.pyplot as plt\n",
    "from matplotlib import style\n",
    "\n",
    "# store serialized object locally\n",
    "import pickle \n",
    "\n",
    "import datetime as dt\n",
    "from datetime import timedelta \n",
    "from datetime import date\n",
    "\n",
    "# import plotly for candlestick charts\n",
    "!pip install plotly --quiet \n",
    "import plotly\n",
    "from plotly import graph_objects as go\n",
    "\n",
    "# stock data api\n",
    "# from iexfinance.stocks import Stock\n",
    "# from iexfinance.stocks import get_historical_data\n",
    "import quandl as ql\n",
    "import yfinance as yf\n",
    "\n",
    "# find optimal ARIMA parameters\n",
    "import pmdarima.arima as pmd\n",
    "from pmdarima.arima import auto_arima\n",
    "\n",
    "# Stats tools for performing stationarity tests and visualization of time series\n",
    "import statsmodels \n",
    "from statsmodels.tsa.stattools import adfuller\n",
    "from statsmodels.tsa.seasonal import seasonal_decompose\n",
    "from statsmodels.graphics.tsaplots import plot_acf, plot_pacf\n",
    "from statsmodels.tsa.arima.model import ARIMA\n",
    "\n",
    "import sklearn as sk\n",
    "# from sklearn.model_selection import GridSearchCV\n",
    "# model evaluation\n",
    "from sklearn.metrics import mean_squared_error, mean_absolute_error\n",
    "\n",
    "import warnings \n"
   ]
  },
  {
   "cell_type": "code",
   "execution_count": null,
   "metadata": {},
   "outputs": [],
   "source": [
    "print('matplotlib ver: %s'%matplotlib.__version__)\n",
    "print('pandas version: %s'%pd.__version__)\n",
    "print('numpy version: %s'%np.__version__)\n",
    "print('scikit learn version: %s' %sk.__version__)\n",
    "print('plotly version: %s' % plotly.__version__)\n",
    "print('statsmodels ver: %s'%statsmodels.__version__)"
   ]
  },
  {
   "cell_type": "code",
   "execution_count": null,
   "metadata": {
    "scrolled": true
   },
   "outputs": [],
   "source": [
    "style.use('ggplot')\n",
    "# quandl api key activation\n",
    "ql.ApiConfig.api_key = open(\"ql_api_token.txt\").read()\n"
   ]
  },
  {
   "cell_type": "markdown",
   "metadata": {},
   "source": [
    "### Extracting and loading the data \n",
    "Historical end-of-day (EOD) price data will be extracted via the yahoo finance(yfinance) api and quandl. \n",
    "In order to send requests to the Quandl server, you'll need to create an account with them and obtain an api key to verify the user. There were some limitations with this data source as they only kept historical data until Dec 2017. You would need to pay in order to retrieve up-to-date price data. <br>\n",
    "The rest of the data was acquired through yfinance api. In future, the price data will be sourced from yfinance and storing it locally in pickle format."
   ]
  },
  {
   "cell_type": "code",
   "execution_count": null,
   "metadata": {},
   "outputs": [],
   "source": [
    "# Start: 1st trading day in 2014 \n",
    "start = dt.datetime(2014,1,2)\n",
    "# latest close date \n",
    "end = date.today()\n",
    "# Using quandl api to retrieve historical data on ticker MSFT (Microsoft)\n",
    "eod_msft_data = ql.get('EOD/MSFT', start_date=start, end_date=end)\n",
    "# eod_msft_data.head()\n",
    "eod_msft_data.tail()\n",
    "# Free EOD data is limited to end of 2017"
   ]
  },
  {
   "cell_type": "code",
   "execution_count": null,
   "metadata": {},
   "outputs": [],
   "source": [
    "# Check for any null values in dataset \n",
    "eod_msft_data.isnull().values.any() "
   ]
  },
  {
   "cell_type": "code",
   "execution_count": null,
   "metadata": {},
   "outputs": [],
   "source": [
    "# trim down dataframe to necessary columns\n",
    "adj_close_msft_2017 = eod_msft_data[['Volume','Adj_Close']] \n",
    "adj_close_msft_2017.info()"
   ]
  },
  {
   "cell_type": "code",
   "execution_count": null,
   "metadata": {},
   "outputs": [],
   "source": [
    "# Get remaining data from Yahoo Finance\n",
    "ticker = 'MSFT'\n",
    "# if os.path.exists(ticker+'.pickle'):\n",
    "#     with open(ticker+'.pickle', 'rb') as handle:\n",
    "#     file_ = pickle.load(handle)\n",
    "#     print(file_)\n",
    "# else:\n",
    "#     msft_yf= yf.download(ticker,start='2018-01-02',end='2019-12-28')\n",
    "#     with open(ticker+'.pickle', 'wb') as handle:\n",
    "#         pickle.dump(msft_yf, handle)\n",
    "\n",
    "msft_yf= yf.download(ticker,start='2018-01-02',end='2019-12-28')"
   ]
  },
  {
   "cell_type": "markdown",
   "metadata": {},
   "source": [
    "We're excluding data points from 2020 as the market had entered unchartered territory in February 2020 since the market had never encountered a situation like this before. The market saw a major sell off in March with the S&P500 plunging by ~30% due to mass fear/concern over a highly infectious SARS-like virus that afflicted the whole world's economic output due to the closure of operations worldwide as they battled with keeping the cases down and flattening the curve. Due to the nature of the event, it would be difficult to predict how the world would recover from an economic downturn due to the pandemic.\n",
    "\n",
    "Source:\n",
    "- [WHO Declares COVID-19 a Pandemic](https://pubmed.ncbi.nlm.nih.gov/32191675/)<br>\n",
    "- [WSJ: New York City Faces Challenges as U.S. Epicenter for Coronavirus ](https://www.wsj.com/articles/new-york-city-faces-challenges-as-u-s-epicenter-for-coronavirus-11584983498)"
   ]
  },
  {
   "cell_type": "code",
   "execution_count": null,
   "metadata": {},
   "outputs": [],
   "source": [
    "msft_yf.columns = ['Open','High','Low','Close','Adj_Close','Volume']\n",
    "msft_yf.head()"
   ]
  },
  {
   "cell_type": "code",
   "execution_count": null,
   "metadata": {},
   "outputs": [],
   "source": [
    "# Check for any null values in dataset \n",
    "msft_yf.isnull().values.any() "
   ]
  },
  {
   "cell_type": "code",
   "execution_count": null,
   "metadata": {},
   "outputs": [],
   "source": [
    "# Splice dataframe for volume and adjusted close prices\n",
    "adj_close_msft_2019 = msft_yf[['Adj_Close','Volume']]\n",
    "adj_close_msft_2019.info()"
   ]
  },
  {
   "cell_type": "code",
   "execution_count": null,
   "metadata": {},
   "outputs": [],
   "source": [
    "# concatenate dataframes\n",
    "adj_close_msft_merged = adj_close_msft_2017.append(adj_close_msft_2019)\n",
    "adj_close_msft_merged.describe()"
   ]
  },
  {
   "cell_type": "markdown",
   "metadata": {},
   "source": [
    "Training was designated as all adjusted close data prior to 2019. Adjusted close price was used here because this price is adjusted for the dividends and stock splits that it may have occurred over the selected period of time."
   ]
  },
  {
   "cell_type": "code",
   "execution_count": null,
   "metadata": {},
   "outputs": [],
   "source": [
    "# test/train data split\n",
    "train = adj_close_msft_merged['Adj_Close'][:'2018-12-31']\n",
    "test = adj_close_msft_merged['Adj_Close']['2019-01-01':]\n",
    "train.describe()"
   ]
  },
  {
   "cell_type": "markdown",
   "metadata": {},
   "source": [
    "#### Visualizing price data "
   ]
  },
  {
   "cell_type": "code",
   "execution_count": null,
   "metadata": {},
   "outputs": [],
   "source": [
    "# Plot training and testing data \n",
    "ax1 = plt.subplot2grid((6,1), (0,0), rowspan=5, colspan=1)\n",
    "ax2 = plt.subplot2grid((6,1), (5,0), rowspan=1, colspan=1,sharex=ax1)\n",
    "ax1.plot( train, label='train')\n",
    "ax1.plot( test, label='test')\n",
    "ax2.bar(x=adj_close_msft_merged.index,height=adj_close_msft_merged['Volume'],color='red')\n",
    "ax1.set_title('Microsoft closing price in USD(2014-2019)')\n",
    "ax1.set(ylabel='Share price in USD')\n",
    "# Number of transactions in a given timestamp \n",
    "ax2.set(ylabel='Volume\\n(100-mill.)')\n",
    "ax2.set(xlabel='Year')\n",
    "leg1 = ax1.legend(loc='lower right')\n",
    "ax1.add_artist(leg1)\n",
    "plt.rcParams[\"figure.figsize\"] = (16,10)\n",
    "plt.show()"
   ]
  },
  {
   "cell_type": "markdown",
   "metadata": {},
   "source": [
    "In the price chart above, we can see price trend over the past 5 years of the equity and in its subplot the daily trading volume. From this, we can see that the time-series looks noisy, and has a trend to it. "
   ]
  },
  {
   "cell_type": "markdown",
   "metadata": {},
   "source": [
    "### Feature Engineering \n",
    "#### Technical indicators (features) \n",
    "In technical stock analysis, various indicators are used in order to guage the next move in the price of an equity. Some of the most common indicators are: \n",
    "- Moving averages (Simple, Exponential): The intersection of moving averages usually hold value in determining the overall trend of the price movement.  eg. Golden Cross, death cross\n",
    "- Relative strength index (RSI): A popular momentum oscillator. Measures the magnitude of recent price changes to evaluate overbought or oversold conditions in the price of a stock or other asset.\n",
    "- Trailing and Forward P/E ratio :  If a company is rapidly growing, the forward P/E could be much higher than the trailing P/E. If it sells a piece of its business or undergoes a large scale restructuring, forward earnings could temporarily nosedive. \n",
    "<br>\n",
    "These technical indicators are usually used in conjunction to one another to provide signals for trading opportunities in both long and short term strategies,but is more commonly used in short-term trading strategies.\n",
    "<br>\n",
    "(Source: [Investopedia](https://www.investopedia.com/articles/investing/041013/differences-between-forward-pe-and-trailing-pe.asp))"
   ]
  },
  {
   "cell_type": "code",
   "execution_count": null,
   "metadata": {},
   "outputs": [],
   "source": [
    "symbol_info = yf.Ticker(\"msft\").info\n",
    "print(\"PEG ratio: {} \\nTrailing PE ratio: {} \\nProjected/Forward PE ratio: {}\"\n",
    "      .format(symbol_info['pegRatio'],symbol_info['trailingPE'],symbol_info['forwardPE']))"
   ]
  },
  {
   "cell_type": "markdown",
   "metadata": {},
   "source": [
    "##### Calculating RSI \n",
    "The standard is to use 14 periods to calculate the initial RSI value."
   ]
  },
  {
   "cell_type": "code",
   "execution_count": null,
   "metadata": {},
   "outputs": [],
   "source": [
    "def calc_rs(df,price_col='adj close'):\n",
    "    d_ = df[price_col].diff()\n",
    "    pos_ = d_.clip(lower=0)\n",
    "    neg_ = -1*d_.clip(upper=0)\n",
    "    ema_up = pos_.ewm(com=13, adjust=False).mean()\n",
    "    ema_down = neg_.ewm(com=13, adjust=False).mean()\n",
    "    rel_str = ema_up/ema_down\n",
    "    return rel_str\n"
   ]
  },
  {
   "cell_type": "markdown",
   "metadata": {},
   "source": [
    "##### Stochastic oscillator "
   ]
  },
  {
   "cell_type": "code",
   "execution_count": null,
   "metadata": {},
   "outputs": [],
   "source": [
    "def full_stochastic_osc(df, k=14, d=3, smoothing=3):\n",
    "    ''' Takes dataframe, window frame for %K and %d as well as the smoothing factor,\n",
    "    and outputs a tuple of K and d.\n",
    "    Calculates Fast stochastic:\n",
    "    %K = (Current Close - Lowest Low)/\n",
    "    (Highest High - Lowest Low) * 100\n",
    "    %D = 3-day SMA of %K \n",
    "    '''\n",
    "    \n",
    "    low_min  = df['Low'].rolling( window = k ).min()\n",
    "    high_max = df['High'].rolling( window = k ).max()\n",
    "    \n",
    "    fast_K = 100 * ((df['Close'] - low_min)/(high_max - low_min))\n",
    "    fast_D = fast_K.rolling(window=d).mean()\n",
    "    full_K = fast_K.rolling(window = smoothing).mean()\n",
    "    full_D = full_K.rolling(window = d).mean()\n",
    "    \n",
    "    return (full_K, full_D)\n",
    "    \n"
   ]
  },
  {
   "cell_type": "code",
   "execution_count": null,
   "metadata": {},
   "outputs": [],
   "source": [
    "def slope_indicator(df, periods=5):\n",
    "    \n",
    "    slope = np.polyfit(range(len(df)),df,1)[0]\n",
    "    return slope\n",
    "# slope_ = full_msft_df['Adj_Close'].rolling(15,min_periods=5).apply(slope_indicator)[4::5]\n",
    "# plt.plot(slope_)\n",
    "# plt.show()"
   ]
  },
  {
   "cell_type": "code",
   "execution_count": null,
   "metadata": {},
   "outputs": [],
   "source": [
    "# Daily prices including highs and lows with volume for hockeystick graph\n",
    "full_msft_df = eod_msft_data[['Open','High','Low','Close','Adj_Close','Volume']].append(msft_yf)\n",
    "# If a stock underwent a split, you'd have to create a new dataset based on the Adjusted Close values.\n",
    "full_msft_df.info()"
   ]
  },
  {
   "cell_type": "code",
   "execution_count": null,
   "metadata": {},
   "outputs": [],
   "source": [
    "# Change in slope over 5 days\n",
    "full_msft_df['slope-chg-5d'] = slope_indicator(full_msft_df['Adj_Close'])\n",
    "\n",
    "# Simple moving averages \n",
    "full_msft_df['50d-sma'] = full_msft_df['Adj_Close'].rolling(50).mean()\n",
    "full_msft_df['100d-sma'] = full_msft_df['Adj_Close'].rolling(100).mean()\n",
    "full_msft_df['200d-sma'] = full_msft_df['Adj_Close'].rolling(200).mean()\n",
    "\n",
    "# Exponential moving averages\n",
    "full_msft_df['12d-ema'] = full_msft_df['Adj_Close'].ewm(span=12, min_periods=12).mean()\n",
    "full_msft_df['26d-ema'] = full_msft_df['Adj_Close'].ewm(span=26, min_periods=26).mean()\n",
    "\n",
    "# Daily returns\n",
    "full_msft_df['returns'] = full_msft_df['Adj_Close'].pct_change()\n",
    "# Technical indicators\n",
    "\n",
    "# MACD\n",
    "full_msft_df['macd'] = full_msft_df['12d-ema'] - full_msft_df['26d-ema']\n",
    "full_msft_df['macd-signal'] = full_msft_df['macd'].ewm(span=9, min_periods=9).mean()\n",
    "\n",
    "# Buy signal from MACD\n",
    "full_msft_df['ma-crossover-buy'] = np.where(full_msft_df['50d-sma'] > \n",
    "                                            full_msft_df['200d-sma'], 1, 0)\n",
    "full_msft_df['macd-crossover'] = np.where(full_msft_df['macd'] > \n",
    "                                          full_msft_df['macd-signal'], 1, 0)\n",
    "\n",
    "# Momentum indicators \n",
    "full_msft_df['rsi'] = 100 - (100/(1+calc_rs(full_msft_df,price_col='Adj_Close')))\n",
    "full_msft_df['stoch-%K'] = full_stochastic_osc(full_msft_df, 20, 5, 5)[0]\n",
    "full_msft_df['stoch-%d'] = full_stochastic_osc(full_msft_df, 20, 5 ,5)[1]\n",
    "\n",
    "# Change in daily volume\n",
    "full_msft_df['dvol_pct_chng'] = full_msft_df['Volume'].pct_change()\n",
    "\n",
    "\n",
    "full_msft_df[200:300]"
   ]
  },
  {
   "cell_type": "code",
   "execution_count": null,
   "metadata": {
    "scrolled": false
   },
   "outputs": [],
   "source": [
    "\n",
    "# Training dataset using candlestick format with rangeslider to zoom into prices \n",
    "# in a given time period. \n",
    "\n",
    "fig = go.Figure(data=[go.Candlestick(x=full_msft_df.index,\n",
    "                      open=full_msft_df['Open'],\n",
    "                      close=full_msft_df['Close'],\n",
    "                      high=full_msft_df['High'],\n",
    "                      low=full_msft_df['Low'],\n",
    "                      increasing_line_color='#3D9970',\n",
    "                      decreasing_line_color='#FF4136',\n",
    "                      name='Adjusted closing price'\n",
    "                     )])\n",
    "# Add 50 day moving average \n",
    "fig.add_trace(\n",
    "    go.Scatter(x=full_msft_df.index, \n",
    "               y=full_msft_df[\"50d-sma\"],\n",
    "               mode='lines',line=dict(width = 0.75),\n",
    "               name=\"SMA-50\"\n",
    "              )\n",
    "    )\n",
    "# Add 100 day moving average\n",
    "fig.add_trace(\n",
    "    go.Scatter(x=full_msft_df.index, \n",
    "               y=full_msft_df[\"100d-sma\"],\n",
    "               mode='lines',line=dict(width = 0.75),\n",
    "               name=\"SMA-100\"\n",
    "              )\n",
    "    )\n",
    "# Add 200 day moving average \n",
    "fig.add_trace(\n",
    "    go.Scatter(x=full_msft_df.index, \n",
    "               y=full_msft_df[\"200d-sma\"],\n",
    "               mode='lines',line=dict(width = 0.75),\n",
    "               name=\"SMA-200\"\n",
    "              )\n",
    "    )\n",
    "\n",
    "fig.update_layout(\n",
    "    title='MSFT price in the last 3 years prior to 2019 as candlestick chart',\n",
    "    yaxis_title='Adjusted Close Price/USD')\n",
    "\n",
    "fig.show()\n",
    "\n"
   ]
  },
  {
   "cell_type": "code",
   "execution_count": null,
   "metadata": {},
   "outputs": [],
   "source": [
    "from plotly.subplots import make_subplots\n",
    "\n",
    "# Plotting technical indicators \n",
    "fig1 = make_subplots(rows=3, cols=1)\n",
    "fig1.append_trace(\n",
    "    go.Scatter(x=full_msft_df.index, \n",
    "               y=full_msft_df[\"macd\"],\n",
    "               mode='lines',\n",
    "               line=dict(width = 0.75),\n",
    "               name=\"MACD\"),row = 1,col = 1\n",
    "    )\n",
    "fig1.append_trace(\n",
    "    go.Scatter(x=full_msft_df.index, \n",
    "               y=full_msft_df[\"macd-signal\"],\n",
    "               mode='lines',\n",
    "               line=dict(width = 0.75),\n",
    "               name=\"MACD-signal\"),row=1,col=1\n",
    "    )\n",
    "fig1.append_trace(\n",
    "    go.Scatter(x=full_msft_df.index, \n",
    "               y=full_msft_df[\"stoch-%K\"],\n",
    "               mode='lines',\n",
    "               line=dict(width = 0.75),\n",
    "               name=\"Full Stochastic %K\"),row=2,col=1\n",
    "    )\n",
    "fig1.append_trace(\n",
    "    go.Scatter(x=full_msft_df.index, \n",
    "               y=full_msft_df[\"stoch-%d\"],\n",
    "               mode='lines',\n",
    "               line=dict(width = 0.75),\n",
    "               name=\"Full Stochastic %d\"),row=2,col=1\n",
    "    )\n",
    "fig1.append_trace(\n",
    "    go.Scatter(x=full_msft_df.index, \n",
    "               y=full_msft_df[\"rsi\"],\n",
    "               mode='lines',\n",
    "               line=dict(width = 0.75),\n",
    "               name=\"Relative Strength Index\"),row=3,col=1\n",
    "    )\n",
    "\n",
    "fig1['layout'].update(\n",
    "    shapes=[{'type': 'line','y0':70,'y1': 70,'x0':str(full_msft_df.index[0]),\n",
    "             'x1':str(full_msft_df.index[-1]),'xref':'x2','yref':'y2',\n",
    "             'line': {'color': 'red','width': 0.5}},\n",
    "            {'type': 'line','y0':30,'y1': 30,'x0':str(full_msft_df.index[0]),\n",
    "             'x1':str(full_msft_df.index[-1]),'xref':'x2','yref':'y2',\n",
    "             'line': {'color': 'green','width': 0.5}},\n",
    "            {'type': 'line','y0':70,'y1': 70,'x0':str(full_msft_df.index[0]),\n",
    "             'x1':str(full_msft_df.index[-1]),'xref':'x3','yref':'y3',\n",
    "             'line': {'color': 'red','width': 0.5}},\n",
    "            {'type': 'line','y0':30,'y1': 30,'x0':str(full_msft_df.index[0]),\n",
    "             'x1':str(full_msft_df.index[-1]),\n",
    "             'xref':'x3','yref':'y3',\n",
    "             'line': {'color': 'green','width': 0.5}}]\n",
    ")\n",
    "fig1.update_layout(title=go.layout.Title(text=\"Momentum indicators\"))\n",
    "fig1.show()"
   ]
  },
  {
   "cell_type": "code",
   "execution_count": null,
   "metadata": {},
   "outputs": [],
   "source": [
    "import plotly.io as pio\n",
    "# save interactive plot as html \n",
    "pio.write_html(fig, file='img/candlestick-chart.html', auto_open=False)\n",
    "pio.write_html(fig1, file='img/indicators.html',auto_open=False)\n"
   ]
  },
  {
   "cell_type": "markdown",
   "metadata": {},
   "source": [
    "#### Creating labels for training "
   ]
  },
  {
   "cell_type": "markdown",
   "metadata": {},
   "source": [
    "Since we don't have any explicit labels provided for this dataset, we will have to create our own labels that will be derived based on strategies for long term investing eg. SMA crossovers. "
   ]
  },
  {
   "cell_type": "code",
   "execution_count": null,
   "metadata": {},
   "outputs": [],
   "source": [
    "full_msft_df.columns"
   ]
  },
  {
   "cell_type": "code",
   "execution_count": null,
   "metadata": {},
   "outputs": [],
   "source": [
    "def sma_signal_gen(df):\n",
    "    slope = np.polyfit(range(len(df)),df,1)[0]\n",
    "    \n",
    "    df['signal'] = np.where(df['Adj_Close'] < 0.04 * df['200d-sma'], -1, 0)\n",
    "    df['signal'] = np.where(df['Adj_Close'] < df['200d-sma'] & df['slope'] > 0, 1, 0)\n",
    "    "
   ]
  },
  {
   "cell_type": "markdown",
   "metadata": {},
   "source": [
    "### Properties of time series\n"
   ]
  },
  {
   "cell_type": "code",
   "execution_count": null,
   "metadata": {},
   "outputs": [],
   "source": [
    "# PLOT ACF \n",
    "lag_acf = plot_acf(train,lags=50, title='ACF for MSFT price series')\n",
    "_ = plt.xlabel('Lags')\n",
    "_ = plt.ylabel('ACF')"
   ]
  },
  {
   "cell_type": "markdown",
   "metadata": {},
   "source": [
    "The height of each spike shows the value of the autocorrelation function for the lag.\n",
    "<br>\n",
    "The autocorrelation with lag zero always equals 1, because this represents the autocorrelation between each term and itself. Price and price with lag zero are the same variable.\n",
    "<br>\n",
    "Each spike that rises above or falls below the dashed lines is considered to be statistically significant.\n",
    "In this example, the spikes are statistically significant for lags up to 50. This means that the MSFT stock prices are highly correlated with each other. In other words, when the price of MSFT stock rises, it tends to continue rising. When the price of MSFT stock falls, it tends to continue falling."
   ]
  },
  {
   "cell_type": "code",
   "execution_count": null,
   "metadata": {},
   "outputs": [],
   "source": [
    "#PLOT PACF\n",
    "lag_pacf = plot_pacf(train, lags=40, title='Partial ACF for MSFT price series')\n",
    "_ = plt.xlabel('Lags')\n",
    "_ = plt.ylabel('PACF')"
   ]
  },
  {
   "cell_type": "markdown",
   "metadata": {},
   "source": [
    "Looking strictly for what directly affects the series. According to this plot, we can see lags 1,5,17,25,34 have significant correlation prior to differencing.  "
   ]
  },
  {
   "cell_type": "markdown",
   "metadata": {},
   "source": [
    "#### Summarizing what we've seen thus far \n",
    "- The series is currently not stationary and has elements of random walk and a trend to it. \n",
    "- Using the ACF and PACF lag values as it stands will not yield an accurate prediction of the time-series.\n",
    "- The time-series will likely require differencing which will be covered in the subsequent section. We will be trying various methods to transform the series and testing if the series is stationary after transformation."
   ]
  },
  {
   "cell_type": "markdown",
   "metadata": {},
   "source": [
    "### Testing for stationarity\n",
    "<b>H0</b>: The null hypothesis: It is a statement about the population that either is believed to be true or is used to put forth an argument unless it can be shown to be incorrect beyond a reasonable doubt. My null hypothesis is that the series is non-stationary. \n",
    "\n",
    "<b>H1</b>: My alternative hypothesis is that the time series is stationary.\n",
    "\n"
   ]
  },
  {
   "cell_type": "code",
   "execution_count": null,
   "metadata": {},
   "outputs": [],
   "source": [
    "# Differencing required?\n",
    "print(\"Orders of differencing required: \",pmd.ndiffs(train))"
   ]
  },
  {
   "cell_type": "code",
   "execution_count": null,
   "metadata": {},
   "outputs": [],
   "source": [
    "# test timeseries for stationarity using the Augmented Dickey-Fuller test\n",
    "adf_test_result = adfuller(train)\n",
    "print('ADF Statistic: %f' % adf_test_result[0])\n",
    "print('p-value: %f' % adf_test_result[1])\n",
    "for key, value in adf_test_result[4].items():\n",
    "    print('\\t%s: %.3f' % (key, value))"
   ]
  },
  {
   "cell_type": "markdown",
   "metadata": {},
   "source": [
    "Here, the p-value (0.97) is greater than 0.05 so we cannot reject the Null hypothesis and has a unit root. And that the series has some time dependent features as well. \n",
    "For time series analysis, we will need to separate trend and seasonality from the time series."
   ]
  },
  {
   "cell_type": "markdown",
   "metadata": {},
   "source": [
    "### Decomposing a time series \n",
    "Decomposing a time series means separating it into its constituent components, which are usually a trend component and an irregular component, and if it is a seasonal time series, a seasonal component.\n",
    "To estimate the trend component of a non-seasonal time series that can be described using an additive model, it is common to use a smoothing method, such as calculating the simple moving average of the time series."
   ]
  },
  {
   "cell_type": "code",
   "execution_count": null,
   "metadata": {},
   "outputs": [],
   "source": [
    "from statsmodels.tsa.seasonal import seasonal_decompose\n",
    "decomposition = seasonal_decompose(train, freq=12)  \n",
    "fig = plt.figure()  \n",
    "fig = decomposition.plot()  \n",
    "fig.set_size_inches(15, 8)"
   ]
  },
  {
   "cell_type": "markdown",
   "metadata": {},
   "source": [
    "#### Differencing the time series\n",
    "Most time series models assume that each point is independent of one another. Therefore, its important that the statistical properties of a system do not change over time. "
   ]
  },
  {
   "cell_type": "code",
   "execution_count": null,
   "metadata": {},
   "outputs": [],
   "source": [
    "# First order differencing  \n",
    "train_first_diff = train.values[:-2] - train.values[1:-1]\n",
    "\n",
    "fig = plt.plot(train_first_diff)\n",
    "plt.axhline(y=train_first_diff.mean(), color='black')\n",
    "plt.show()"
   ]
  },
  {
   "cell_type": "code",
   "execution_count": null,
   "metadata": {},
   "outputs": [],
   "source": [
    "# Differencing required?\n",
    "print(\"Orders of differencing required: \",pmd.ndiffs(train_first_diff))"
   ]
  },
  {
   "cell_type": "code",
   "execution_count": null,
   "metadata": {},
   "outputs": [],
   "source": [
    "# Test stationarity \n",
    "adf_test_result = adfuller(train_first_diff)\n",
    "print('ADF Statistic: %f' % adf_test_result[0])\n",
    "print('p-value: %f' % adf_test_result[1])\n",
    "for key, value in adf_test_result[4].items():\n",
    "    print('\\t%s: %.3f' % (key, value))"
   ]
  },
  {
   "cell_type": "markdown",
   "metadata": {},
   "source": [
    "Based on the outputs from the Augmented Dickey-Fuller (ADF) test, we can see that the p-value is near zero which is less than the critical value we had set for the series (0.05). We can reject the null hypothesis and accept that the series is stationary after differencing the series. <br> \n",
    "This differenced series is a potential candidate for our ARMA model. Let's plot out the ACF and PACF to see if there are any lags that are significant in this series."
   ]
  },
  {
   "cell_type": "code",
   "execution_count": null,
   "metadata": {},
   "outputs": [],
   "source": [
    "# Plotting both ACF and PACF for First ordered differenced series\n",
    "fig, (ax0, ax1) = plt.subplots(nrows=2, figsize=(12,8),sharex=True)\n",
    "plot_pacf(train_first_diff,\n",
    "          lags=50,\n",
    "          title='First differenced price series - PACF',\n",
    "          ax=ax0)\n",
    "plot_acf(train_first_diff, \n",
    "         lags=50, \n",
    "         title=\"First differenced series - ACF\",\n",
    "         ax=ax1)\n",
    "ax0.set(ylabel='PACF')\n",
    "ax1.set(ylabel='ACF')\n",
    "ax1.set(xlabel='Lags');\n",
    "\n"
   ]
  },
  {
   "attachments": {
    "ar-eqn.PNG": {
     "image/png": "[encoded data removed]"
    },
    "ma-process-eqn.PNG": {
     "image/png": "[encoded data removed]"
    }
   },
   "cell_type": "markdown",
   "metadata": {},
   "source": [
    "The charts above show that the 33rd and 41st lags are significant lags in the PACF plot, while the 2, 3, 5, 9th lags are significant lags in the ACF plot. While the ADF tests proved that the series is stationary, these values would result in a 33rd ordered ARIMA model, this will be a bit clearer with the formula that is shown below: \n",
    "<br>\n",
    "![AR model equation](attachment:ar-eqn.PNG)\n",
    "<br>\n",
    "In AR process, p is the order, c is a constant and epsilon is the noise component.\n",
    "<br>\n",
    "![MA model equation](attachment:ma-process-eqn.PNG)\n",
    "<br>\n",
    "Similarly, in the MA process, q is the order, c is a constant and epsilon is the noise component.\n",
    "The higher the order of AR, the higher the complexity of the model, which would make it harder to explain and the forecasted series wouldn't be any different from a random walk. \n",
    "<br>\n",
    "So, we'll continue to try other transformations and use the one that yields us a result that is feasible."
   ]
  },
  {
   "cell_type": "code",
   "execution_count": null,
   "metadata": {},
   "outputs": [],
   "source": [
    "# Log transform \n",
    "log_train_diff = np.log(train).diff()\n",
    "\n",
    "# Differencing - 3day averaged\n",
    "ma_3d = train.rolling(window=3, center=False).mean() \n",
    "diff_ma_3d = ma_3d.diff()\n",
    "diff_ma_3d_no_nan = diff_ma_3d.dropna()"
   ]
  },
  {
   "cell_type": "code",
   "execution_count": null,
   "metadata": {},
   "outputs": [],
   "source": [
    "# Test stationarity \n",
    "adf_test_result = adfuller(log_train_diff.dropna())\n",
    "print('ADF Statistic: %f' % adf_test_result[0])\n",
    "print('p-value: ' , adf_test_result[1])\n",
    "for key, value in adf_test_result[4].items():\n",
    "    print('\\t%s: %.3f' % (key, value))"
   ]
  },
  {
   "cell_type": "code",
   "execution_count": null,
   "metadata": {},
   "outputs": [],
   "source": [
    "# Differencing required?\n",
    "print(\"Orders of differencing required: \",pmd.ndiffs(diff_ma_3d_no_nan))"
   ]
  },
  {
   "cell_type": "code",
   "execution_count": null,
   "metadata": {},
   "outputs": [],
   "source": [
    "adf_test_result = adfuller(diff_ma_3d.dropna())\n",
    "print('ADF Statistic: ' , adf_test_result[0])\n",
    "print('p-value: ' , adf_test_result[1])\n",
    "for key, value in adf_test_result[4].items():\n",
    "    print('\\t%s: %.3f' % (key, value))"
   ]
  },
  {
   "cell_type": "code",
   "execution_count": null,
   "metadata": {},
   "outputs": [],
   "source": [
    "# Differencing - 12day exponential average log transformation\n",
    "ewma_12d_logtrain_diff = np.log(train) - train.ewm(span=3, min_periods=3).mean()\n",
    "ewma_12d_logtrain_diff_nonan = ewma_12d_logtrain_diff.dropna()\n",
    "\n",
    "# Exponential log transformation\n",
    "log_ewma_ = np.log(train).ewm(span=3, min_periods=3).mean()"
   ]
  },
  {
   "cell_type": "code",
   "execution_count": null,
   "metadata": {},
   "outputs": [],
   "source": [
    "adf_test_result = adfuller(log_ewma_.dropna())\n",
    "print('ADF Statistic: ', adf_test_result[0])\n",
    "print('p-value: ', adf_test_result[1])\n",
    "for key, value in adf_test_result[4].items():\n",
    "    print('\\t%s: %.3f' % (key, value))"
   ]
  },
  {
   "cell_type": "code",
   "execution_count": null,
   "metadata": {},
   "outputs": [],
   "source": [
    "adf_test_result = adfuller(ewma_12d_logtrain_diff_nonan)\n",
    "print('ADF Statistic: ' , adf_test_result[0])\n",
    "print('p-value: ' , adf_test_result[1])\n",
    "for key, value in adf_test_result[4].items():\n",
    "    print('\\t%s: %.3f' % (key, value))"
   ]
  },
  {
   "cell_type": "code",
   "execution_count": null,
   "metadata": {},
   "outputs": [],
   "source": [
    "# Plot all transformations\n",
    "fig2 = make_subplots(rows=6, cols=2, horizontal_spacing = 0.05)\n",
    "\n",
    "fig2.append_trace(\n",
    "    go.Scatter(x=full_msft_df.index, \n",
    "               y=train,\n",
    "               mode='lines',\n",
    "               line=dict(width = 0.75),\n",
    "               name=\"Original\"),row = 1,col = 1\n",
    "    )\n",
    "\n",
    "fig2.append_trace( go.Scatter(x=full_msft_df.index,\n",
    "                             y=train_first_diff,\n",
    "                             mode='lines',line=dict(width = 0.75),\n",
    "               name=\"Differencing - First ordered \"),row = 2,col = 1\n",
    ")\n",
    "\n",
    "fig2.append_trace(\n",
    "    go.Scatter(x=full_msft_df.index, \n",
    "               y=diff_ma_3d,\n",
    "               mode='lines',\n",
    "               line=dict(width = 0.75),\n",
    "               name=\"Differenced - 3dayMA\"),row=3,col=1\n",
    "    )\n",
    "\n",
    "fig2.append_trace(\n",
    "    go.Scatter(x=full_msft_df.index, \n",
    "               y=ewma_12d_logtrain_diff_nonan,\n",
    "               mode='lines',\n",
    "               line=dict(width = 0.75),\n",
    "               name=\"Differenced - 12day Exponential\"),row=1,col=2\n",
    "    )\n",
    "\n",
    "fig2.append_trace(\n",
    "    go.Scatter(x=full_msft_df.index, \n",
    "               y=log_ewma_,\n",
    "               mode='lines',\n",
    "               line=dict(width = 0.75),\n",
    "               name=\"Log transformation\"),row=2,col=2\n",
    "    )\n",
    "\n",
    "fig2.append_trace( go.Scatter(x=full_msft_df.index,\n",
    "                             y=log_train_diff,\n",
    "                             mode='lines',line=dict(width = 0.75),\n",
    "               name=\"Differenced - log transformation\"),row = 3,col = 2\n",
    ")\n",
    "\n",
    "fig2.update_layout(height=900, width=900, \n",
    "                   margin = {'l':0,'b':0,'r':0},\n",
    "                   title_text=\"Transformations vs Original time-series\",\n",
    "                   title_xanchor='left', \n",
    "                   title_yanchor='middle', legend_orientation='h')\n",
    "\n",
    "fig2.show()\n",
    "# Write plot to html file\n",
    "pio.write_html(fig2, file='img/transformations.html',auto_open=False)"
   ]
  },
  {
   "cell_type": "markdown",
   "metadata": {},
   "source": [
    "Based on the charts above and the outputs from the Augmented Dickey-Fuller tests for each of the transformations, we can see that for the 3-day averaged differenced series had the best results. The series' ADF test p-value was near zero which and was less than the critical value we had set for the series (0.05). <br>\n",
    "We can accept that the series is stationary after differencing the series.<br> \n",
    "This differenced series can now be used for our ARMA model. "
   ]
  },
  {
   "cell_type": "code",
   "execution_count": null,
   "metadata": {},
   "outputs": [],
   "source": [
    "# ma_diff_acf = plot_acf(diff_ma_3d.dropna())\n",
    "fig, (ax0, ax1) = plt.subplots(nrows=2, figsize=(12,8),sharex=True)\n",
    "plot_acf(diff_ma_3d.dropna(),\n",
    "         title='Autocorrelation function for differenced of smoothed price series',\n",
    "         ax=ax0)\n",
    "plot_pacf(diff_ma_3d.dropna(),\n",
    "          title='Partial autocorrelation function for differenced of smoothed price series',\n",
    "          ax=ax1)\n",
    "ax0.set(xlabel='lags')\n",
    "ax0.set(ylabel='ACF')\n",
    "ax1.set(xlabel='lags')\n",
    "ax1.set(ylabel='PACF');\n"
   ]
  },
  {
   "cell_type": "markdown",
   "metadata": {},
   "source": [
    "In a differenced smoothed price series, the ACF plot is displaying significant lags 1 and 2 and PACF has significant lags at various points in the function, but we are more concerned with the significant lags at 2, 3, 5, 6, and 8. These values will be used later to define the AR and MA parameters of the ARIMA model, which subsequently will be used to describe the future price of the stock. "
   ]
  },
  {
   "cell_type": "markdown",
   "metadata": {},
   "source": [
    "# Building the ARIMA model \n",
    "\n",
    "Auto-Regressive (p) -> Number of autoregressive terms. \n",
    "<br>\n",
    "Integrated (d) -> Number of nonseasonal differences needed for stationarity.\n",
    "<br>\n",
    "Moving Average (q) -> Number of lagged forecast errors in the prediction equation.\n",
    "<br>\n",
    "In the Auto-ARIMA model, note that small p,d,q values represent non-seasonal components, and capital P, D, Q represent seasonal components. It works similarly like hyperparameter tuning techniques to find the optimal value of p, d, and q with different combinations and the final values would be determined with the lower AIC, BIC parameters taking into consideration.\n",
    "<br>\n",
    "Here, we are trying with the p, d, q values ranging from 0 to 5 to get better optimal values from the model.\n",
    "\n",
    "Source: https://www.digitalocean.com/community/tutorials/a-guide-to-time-series-forecasting-with-arima-in-python-3"
   ]
  },
  {
   "cell_type": "markdown",
   "metadata": {},
   "source": [
    "#### Optimal order for the ARIMA model using auto_arima function\n"
   ]
  },
  {
   "cell_type": "code",
   "execution_count": null,
   "metadata": {},
   "outputs": [],
   "source": [
    "# Find optimal parameters for ARIMA \n",
    "order_params_train = auto_arima(train_first_diff,\n",
    "                                start_p=1,\n",
    "                                seasonal=False,\n",
    "                                max_p=3,\n",
    "                                max_d=3,\n",
    "                                max_q=5, \n",
    "                                information_criterion='aic')\n",
    "order_params_train.summary()\n"
   ]
  },
  {
   "cell_type": "markdown",
   "metadata": {},
   "source": [
    "Rejecting this series because the AIC score is too high. "
   ]
  },
  {
   "cell_type": "code",
   "execution_count": null,
   "metadata": {},
   "outputs": [],
   "source": [
    "order_params_ = auto_arima(diff_ma_3d_no_nan,\n",
    "                           start_p=1,\n",
    "                           max_p=3,\n",
    "                           max_d=3,\n",
    "                           max_q=5, \n",
    "                           information_criterion='aic',\n",
    "                           scoring_args={'mse'})\n",
    "order_params_.summary()"
   ]
  },
  {
   "cell_type": "markdown",
   "metadata": {},
   "source": [
    "After testing the parameters on the model in the cells below, it was found that the order of (3,0,2) had the lowest AIC score and was therefore chosen as the order for the price forecasts going forward.\n",
    "<br>\n",
    "**Important note:** Generally, when choosing the optimal order for ARIMA models, we select the model with the lowest AIC, more parameters will increase the AIC score and thus penalize the model. A small AIC value does not a guarantee that the model will have a good performance on unseen data, or that its squared estimate of errors(SSE) will be small. \n",
    "<br>\n",
    "Source: https://towardsdatascience.com/advanced-time-series-analysis-with-arma-and-arima-a7d9b589ed6d"
   ]
  },
  {
   "cell_type": "code",
   "execution_count": null,
   "metadata": {},
   "outputs": [],
   "source": [
    "# ARIMA for 3-day moving average differenced time series\n",
    "ma3_arima_model = ARIMA(endog=diff_ma_3d_no_nan, order=(3,0,2))\n",
    "\n",
    "# Fit the differenced series\n",
    "ma3_model_res = ma3_arima_model.fit()\n",
    "\n",
    "# Display results of model\n",
    "print(ma3_model_res.summary())"
   ]
  },
  {
   "cell_type": "code",
   "execution_count": null,
   "metadata": {},
   "outputs": [],
   "source": [
    "# Forecasting based on moving average \n",
    "y_hat = ma3_model_res.predict()\n",
    "y_hat.index = pd.to_datetime(y_hat.index,format='%Y-%m-%d')\n",
    "_ = plt.plot(y_hat)\n",
    "_ = plt.plot(diff_ma_3d)\n",
    "plt.legend(['forecast','differenced series'],loc='lower left')\n",
    "plt.show() "
   ]
  },
  {
   "cell_type": "markdown",
   "metadata": {},
   "source": [
    "In order to see how accurately forecasts the price of the stock, we will need to invert the transformations that we had performed on the series (diff_ma_3d) prior fitting the model. "
   ]
  },
  {
   "cell_type": "code",
   "execution_count": null,
   "metadata": {},
   "outputs": [],
   "source": [
    "forecasted_train = y_hat + ma_3d \n",
    "forecasted_train.index = pd.to_datetime(forecasted_train.index)\n",
    "_ = plt.plot(forecasted_train['2018-08-31':], ls='--')\n",
    "_ = plt.plot(train['2018-08-31':])\n",
    "_ = plt.ylabel('Price (USD)')\n",
    "_ = plt.xlabel('Date')\n",
    "_ = plt.xticks(rotation='45')\n",
    "_ = plt.legend(['forecasted series','training series'],loc='best')\n",
    "plt.show()"
   ]
  },
  {
   "cell_type": "markdown",
   "metadata": {},
   "source": [
    "What we want to do now is : \n",
    "1. Apply model on test series via moving windows using current p,d,q. Add test data 1 day at a time.  Or use the predicted values instead for a quarter of the year (90 days)\n",
    "2. Validate this model using RMSE, MSE\n"
   ]
  },
  {
   "cell_type": "code",
   "execution_count": null,
   "metadata": {},
   "outputs": [],
   "source": [
    "warnings.filterwarnings(\"ignore\")\n",
    "\n",
    "# Loop that predicts one day at a time and retrains on new data point.  \n",
    "for i in range(30):\n",
    "    ma_3d = forecasted_train.rolling(window=3, center=False).mean() \n",
    "    diff_ma_3d = ma_3d.diff()\n",
    "    diff_ma_3d_no_nan = diff_ma_3d.dropna()\n",
    "    ma3_model = ARIMA(endog=diff_ma_3d_no_nan, order=(3,0,2))\n",
    "    new_model_res = ma3_model.fit()\n",
    "    raw_forecasted_train = new_model_res.predict(start=len(diff_ma_3d_no_nan),\n",
    "                                      end=len(diff_ma_3d_no_nan)+1)\n",
    "    to_append = pd.Series(dict(zip(test.index,(raw_forecasted_train))),dtype='object')\n",
    "    to_append[0]+= forecasted_train[-1]\n",
    "    to_append[1]+= to_append[0]\n",
    "    forecasted_train = forecasted_train.append(to_append)\n"
   ]
  },
  {
   "cell_type": "code",
   "execution_count": null,
   "metadata": {},
   "outputs": [],
   "source": [
    "# Replace index in forecasted series\n",
    "future_prices_ = forecasted_train['2019-01-02':]\n",
    "future_prices_.index = test.index[:len(future_prices_)]\n",
    "# future_prices_.index"
   ]
  },
  {
   "cell_type": "code",
   "execution_count": null,
   "metadata": {},
   "outputs": [],
   "source": [
    "# Comparison of series \n",
    "_ = plt.plot(future_prices_, c='cyan',ls='--')\n",
    "_ = plt.plot(forecasted_train['2018-09-01':'2018-12-31'],c='magenta',ls='--')\n",
    "_ = plt.plot(train['2018-09-01':'2018-12-31'],c='blue')\n",
    "_ = plt.plot(test[:len(future_prices_)],c='gray')\n",
    "_ = plt.xlabel('Date')\n",
    "_ = plt.ylabel('Price (USD)')\n",
    "_ = plt.legend(['Forecasted series based on previous predicted prices', \n",
    "                'Forecasted series based on training data', \n",
    "                'Actual timeseries data from test dataset' ])\n",
    "plt.show()"
   ]
  },
  {
   "cell_type": "markdown",
   "metadata": {},
   "source": [
    "#### Model Performance "
   ]
  },
  {
   "cell_type": "code",
   "execution_count": null,
   "metadata": {},
   "outputs": [],
   "source": [
    "mean_sq_err = mean_squared_error(future_prices_, test[:len(future_prices_)])\n",
    "print(\"mean squared error with respect to test : \", mean_sq_err)"
   ]
  },
  {
   "cell_type": "markdown",
   "metadata": {},
   "source": [
    "Let's try something different. What if we plug in the real world data per diem and see how that changes the accuracy of the forecasting. "
   ]
  },
  {
   "cell_type": "code",
   "execution_count": null,
   "metadata": {},
   "outputs": [],
   "source": [
    "# Add end of day close price (test) instead of predicted price\n",
    "train_copy = train\n",
    "predicted_val_list = []\n",
    "for i in range(25):\n",
    "    ma_3d = train_copy.rolling(window=3, center=False).mean() \n",
    "    diff_ma_3d = ma_3d.diff()\n",
    "    diff_ma_3d_no_nan = diff_ma_3d.dropna()\n",
    "    ma3_model = ARIMA(endog=diff_ma_3d_no_nan, order=(3,0,2))\n",
    "    new_model_res = ma3_model.fit()\n",
    "    raw_predict = new_model_res.predict(end=len(train_copy)+1)\n",
    "    forecasted_val = raw_predict.iloc[-1]+train_copy.iloc[-1]\n",
    "    predicted_val_list.append(forecasted_val)\n",
    "    train_copy = train_copy.append(pd.Series(test[i]))\n"
   ]
  },
  {
   "cell_type": "code",
   "execution_count": null,
   "metadata": {},
   "outputs": [],
   "source": [
    "index_ = pd.to_datetime(test.index,format='%Y-%m-%d')\n",
    "predicted_series = pd.Series(predicted_val_list,index=index_[:len(predicted_val_list)])"
   ]
  },
  {
   "cell_type": "code",
   "execution_count": null,
   "metadata": {},
   "outputs": [],
   "source": [
    "_ = plt.plot(predicted_series, c='red',ls='--')\n",
    "_ = plt.plot(full_msft_df['Adj_Close'][len(train)-25:len(train)+25],c='blue')\n",
    "_ = plt.xlabel('Date')\n",
    "_ = plt.ylabel('Price (USD)')\n",
    "_ = plt.legend(['Forecasted series based on previous predicted prices', \n",
    "                'Actual timeseries dataset' ])\n",
    "plt.show()"
   ]
  },
  {
   "cell_type": "code",
   "execution_count": null,
   "metadata": {},
   "outputs": [],
   "source": [
    "mean_sq_err = mean_squared_error(predicted_series, test[:len(predicted_series)])\n",
    "print(\"mean squared error with respect to test : \", mean_sq_err)"
   ]
  },
  {
   "cell_type": "code",
   "execution_count": null,
   "metadata": {},
   "outputs": [],
   "source": [
    "import tensorflow as tf\n",
    "from tensorflow import keras\n",
    "from tensorflow.keras import layers\n",
    "from sklearn.preprocessing import MinMaxScaler\n",
    "\n"
   ]
  },
  {
   "cell_type": "markdown",
   "metadata": {},
   "source": [
    "Sample code for K-means is listed below that should be tried out if we decide to go with unsupervised clustering"
   ]
  },
  {
   "cell_type": "code",
   "execution_count": null,
   "metadata": {},
   "outputs": [],
   "source": [
    "# Import the necessary packages\n",
    "from sklearn.pipeline import make_pipeline\n",
    "from sklearn.preprocessing import Normalizer\n",
    "from sklearn.cluster import KMeans\n",
    "# Define a normalizer\n",
    "normalizer = Normalizer()\n",
    "\n",
    "# Create Kmeans model\n",
    "kmeans = KMeans(n_clusters = 10,max_iter = 1000)\n",
    "\n",
    "# Make a pipeline chaining normalizer and kmeans\n",
    "pipeline = make_pipeline(normalizer,kmeans)\n",
    "\n",
    "# Fit pipeline to daily stock movements\n",
    "pipeline.fit(full_msft_df[:'2019-01-02'].dropna())\n",
    "\n",
    "labels = pipeline.predict(full_msft_df['2019-01-02':].dropna())\n",
    "\n",
    "from sklearn.decomposition import PCA \n",
    "\n",
    "# Reduce the data\n",
    "reduced_data = PCA(n_components = 2).fit_transform(labels.reshape(-1, 1))\n",
    "\n",
    "# Define step size of mesh\n",
    "h = 0.01\n",
    "\n",
    "# Plot the decision boundary\n",
    "x_min,x_max = reduced_data[:,0].min()-1, reduced_data[:,0].max() + 1\n",
    "y_min,y_max = reduced_data[:,1].min()-1, reduced_data[:,1].max() + 1\n",
    "xx,yy = np.meshgrid(np.arange(x_min,x_max,h),np.arange(y_min,y_max,h))\n",
    "\n",
    "# Obtain labels for each point in the mesh using our trained model\n",
    "Z = kmeans.predict(np.c_[xx.ravel(),yy.ravel()])\n",
    "\n",
    "# Put the result into a color plot\n",
    "Z = Z.reshape(xx.shape)\n",
    "\n",
    "# Define color plot\n",
    "cmap = plt.cm.Paired\n",
    "\n",
    "# Plotting figure\n",
    "plt.clf()\n",
    "plt.figure(figsize=(10,10))\n",
    "plt.imshow(Z,interpolation = 'nearest',extent=(xx.min(),xx.max(),\n",
    "                                               yy.min(),yy.max()\n",
    "                                              ), cmap = cmap, aspect = 'auto',origin = 'lower')\n",
    "\n",
    "plt.plot(reduced_data[:,0],reduced_data[:,1],'k.',markersize = 5)\n",
    "\n",
    "# Plot the centroid of each cluster as a white X\n",
    "centroids = kmeans.cluster_centers_\n",
    "plt.scatter(centroids[:,0],\n",
    "            centroids[:,1],\n",
    "            marker = 'x',s = 169,\n",
    "            linewidths = 3,color = 'w',\n",
    "            zorder = 10)\n",
    "plt.title('K-Means clustering on stock market movements (PCA-Reduced data)')\n",
    "plt.xlim(x_min,x_max)\n",
    "plt.ylim(y_min,y_max)\n",
    "plt.show()"
   ]
  },
  {
   "cell_type": "markdown",
   "metadata": {},
   "source": [
    "The cluster formation with PCA reduction is different from the cluster formation without PCA reduction. The cons of PCA reduction is some details are lost. The results are not very accurate. The pros of PCA reduction is less computational power and easy visualization."
   ]
  },
  {
   "cell_type": "markdown",
   "metadata": {},
   "source": [
    "#### Future directions and Conclusion:\n",
    "\n",
    "- Blended analysis using Macro indicators, 10K filings and news sentiment analysis.\n"
   ]
  },
  {
   "cell_type": "code",
   "execution_count": null,
   "metadata": {},
   "outputs": [],
   "source": []
  }
 ],
 "metadata": {
  "kernelspec": {
   "display_name": "Python 3",
   "language": "python",
   "name": "python3"
  },
  "language_info": {
   "codemirror_mode": {
    "name": "ipython",
    "version": 3
   },
   "file_extension": ".py",
   "mimetype": "text/x-python",
   "name": "python",
   "nbconvert_exporter": "python",
   "pygments_lexer": "ipython3",
   "version": "3.8.3"
  }
 },
 "nbformat": 4,
 "nbformat_minor": 4
}
