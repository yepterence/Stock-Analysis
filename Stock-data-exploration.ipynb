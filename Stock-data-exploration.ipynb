{
 "cells": [
  {
   "cell_type": "code",
   "execution_count": 4,
   "metadata": {},
   "outputs": [],
   "source": [
    "import pandas as pd\n",
    "import numpy as np\n",
    "import matplotlib.pyplot as plt\n",
    "from matplotlib import style\n",
    "import sklearn \n",
    "import datetime as dt\n",
    "from datetime import timedelta \n",
    "from datetime import date\n",
    "import pandas_datareader.data as web\n",
    "%matplotlib inline"
   ]
  },
  {
   "cell_type": "markdown",
   "metadata": {},
   "source": [
    "Performing quantitative analysis on a growth stock in the technology sector. Here, we'll be taking a look at Shopify, an e-commerce company and how its price has changed over time since its IPO. SHOP, listed on NYSE as well as TSX as (SHOP.TO), had IPO'd on May 21, 2015. "
   ]
  },
  {
   "cell_type": "code",
   "execution_count": 22,
   "metadata": {
    "scrolled": true
   },
   "outputs": [
    {
     "name": "stdout",
     "output_type": "stream",
     "text": [
      "                   High          Low         Open        Close   Volume  \\\n",
      "Date                                                                      \n",
      "2020-07-27   977.460022   935.140015   947.570007   976.390015  2689900   \n",
      "2020-07-28  1014.905029   975.169983  1007.090027   985.000000  3847400   \n",
      "2020-07-29  1107.920044  1038.000000  1107.380005  1053.589966  6492300   \n",
      "2020-07-30  1062.130005  1003.005005  1048.300049  1048.839966  2783900   \n",
      "2020-07-31  1067.677002  1012.109985  1065.000000  1024.000000  2332500   \n",
      "2020-08-03  1089.250000  1028.959961  1032.000000  1083.050049  2631810   \n",
      "\n",
      "              Adj Close  \n",
      "Date                     \n",
      "2020-07-27   976.390015  \n",
      "2020-07-28   985.000000  \n",
      "2020-07-29  1053.589966  \n",
      "2020-07-30  1048.839966  \n",
      "2020-07-31  1024.000000  \n",
      "2020-08-03  1083.050049  \n"
     ]
    }
   ],
   "source": [
    "style.use('ggplot')\n",
    "# In this stock's case, the stock IPO'd in 2015\n",
    "start = dt.datetime(2015,5,21)\n",
    "# latest close date \n",
    "latest = date.today()\n",
    "# retrieve data from Yahoo finance for the given dates\n",
    "# DataReader is able to parse dates and indexes this column for us.\n",
    "# otherwise, it'll be necessary to add parse_dates and index_col if reading a csv file.\n",
    "df = web.DataReader('SHOP','yahoo',start,latest)\n",
    "# datareader indexes date for us\n",
    "print (df.tail(6))"
   ]
  },
  {
   "cell_type": "code",
   "execution_count": 23,
   "metadata": {},
   "outputs": [
    {
     "data": {
      "text/plain": [
       "<matplotlib.axes._subplots.AxesSubplot at 0x29b86c6ee80>"
      ]
     },
     "execution_count": 23,
     "metadata": {},
     "output_type": "execute_result"
    },
    {
     "data": {
      "image/png": "[encoded data removed]",
      "text/plain": [
       "<Figure size 432x288 with 1 Axes>"
      ]
     },
     "metadata": {},
     "output_type": "display_data"
    }
   ],
   "source": [
    "df['Adj Close'].plot()\n",
    "# plt.show() "
   ]
  },
  {
   "cell_type": "markdown",
   "metadata": {},
   "source": [
    "Look at that beautiful curve! \n",
    "Since its IPO, SHOP has experienced explosive growth and recently, surpassed RBC on the TSX as the largest publicly listed company. From 17 to just shy of 1100 per share, a 64.7x fold increase since its IPO. \n",
    "Alright, let's dive in and do some technical analysis. \n",
    "Moving averages are an arithmetic mean of a certain number of data points over a given period of time. 50, 100 and 200 are the most common time periods used for analysis. Its common practice for many technical traders to use these averages to aid in choosing where to enter or exit a position, which then causes these levels to act as strong support or resistance.\n",
    "\n",
    "Source: Investopedia.com\n",
    "Note: I don't own any Shopify shares (although I wish I did!)"
   ]
  },
  {
   "cell_type": "code",
   "execution_count": 31,
   "metadata": {},
   "outputs": [
    {
     "data": {
      "text/html": [
       "<div>\n",
       "<style scoped>\n",
       "    .dataframe tbody tr th:only-of-type {\n",
       "        vertical-align: middle;\n",
       "    }\n",
       "\n",
       "    .dataframe tbody tr th {\n",
       "        vertical-align: top;\n",
       "    }\n",
       "\n",
       "    .dataframe thead th {\n",
       "        text-align: right;\n",
       "    }\n",
       "</style>\n",
       "<table border=\"1\" class=\"dataframe\">\n",
       "  <thead>\n",
       "    <tr style=\"text-align: right;\">\n",
       "      <th></th>\n",
       "      <th>High</th>\n",
       "      <th>Low</th>\n",
       "      <th>Open</th>\n",
       "      <th>Close</th>\n",
       "      <th>Volume</th>\n",
       "      <th>Adj Close</th>\n",
       "      <th>100d-sma</th>\n",
       "    </tr>\n",
       "    <tr>\n",
       "      <th>Date</th>\n",
       "      <th></th>\n",
       "      <th></th>\n",
       "      <th></th>\n",
       "      <th></th>\n",
       "      <th></th>\n",
       "      <th></th>\n",
       "      <th></th>\n",
       "    </tr>\n",
       "  </thead>\n",
       "  <tbody>\n",
       "    <tr>\n",
       "      <th>2020-03-12</th>\n",
       "      <td>403.570007</td>\n",
       "      <td>366.100006</td>\n",
       "      <td>371.000000</td>\n",
       "      <td>377.779999</td>\n",
       "      <td>4419400</td>\n",
       "      <td>377.779999</td>\n",
       "      <td>403.135600</td>\n",
       "    </tr>\n",
       "    <tr>\n",
       "      <th>2020-03-13</th>\n",
       "      <td>406.420013</td>\n",
       "      <td>363.010010</td>\n",
       "      <td>404.000000</td>\n",
       "      <td>390.899994</td>\n",
       "      <td>3314400</td>\n",
       "      <td>390.899994</td>\n",
       "      <td>403.901200</td>\n",
       "    </tr>\n",
       "    <tr>\n",
       "      <th>2020-03-16</th>\n",
       "      <td>362.000000</td>\n",
       "      <td>321.500000</td>\n",
       "      <td>339.000000</td>\n",
       "      <td>322.290009</td>\n",
       "      <td>4179900</td>\n",
       "      <td>322.290009</td>\n",
       "      <td>403.926800</td>\n",
       "    </tr>\n",
       "    <tr>\n",
       "      <th>2020-03-17</th>\n",
       "      <td>358.000000</td>\n",
       "      <td>307.670013</td>\n",
       "      <td>330.019989</td>\n",
       "      <td>355.089996</td>\n",
       "      <td>4240800</td>\n",
       "      <td>355.089996</td>\n",
       "      <td>404.480800</td>\n",
       "    </tr>\n",
       "    <tr>\n",
       "      <th>2020-03-18</th>\n",
       "      <td>358.556000</td>\n",
       "      <td>305.299988</td>\n",
       "      <td>326.339996</td>\n",
       "      <td>336.829987</td>\n",
       "      <td>3522400</td>\n",
       "      <td>336.829987</td>\n",
       "      <td>404.877700</td>\n",
       "    </tr>\n",
       "    <tr>\n",
       "      <th>...</th>\n",
       "      <td>...</td>\n",
       "      <td>...</td>\n",
       "      <td>...</td>\n",
       "      <td>...</td>\n",
       "      <td>...</td>\n",
       "      <td>...</td>\n",
       "      <td>...</td>\n",
       "    </tr>\n",
       "    <tr>\n",
       "      <th>2020-07-28</th>\n",
       "      <td>1014.905029</td>\n",
       "      <td>975.169983</td>\n",
       "      <td>1007.090027</td>\n",
       "      <td>985.000000</td>\n",
       "      <td>3847400</td>\n",
       "      <td>985.000000</td>\n",
       "      <td>695.532602</td>\n",
       "    </tr>\n",
       "    <tr>\n",
       "      <th>2020-07-29</th>\n",
       "      <td>1107.920044</td>\n",
       "      <td>1038.000000</td>\n",
       "      <td>1107.380005</td>\n",
       "      <td>1053.589966</td>\n",
       "      <td>6492300</td>\n",
       "      <td>1053.589966</td>\n",
       "      <td>701.347801</td>\n",
       "    </tr>\n",
       "    <tr>\n",
       "      <th>2020-07-30</th>\n",
       "      <td>1062.130005</td>\n",
       "      <td>1003.005005</td>\n",
       "      <td>1048.300049</td>\n",
       "      <td>1048.839966</td>\n",
       "      <td>2783900</td>\n",
       "      <td>1048.839966</td>\n",
       "      <td>707.653001</td>\n",
       "    </tr>\n",
       "    <tr>\n",
       "      <th>2020-07-31</th>\n",
       "      <td>1067.677002</td>\n",
       "      <td>1012.109985</td>\n",
       "      <td>1065.000000</td>\n",
       "      <td>1024.000000</td>\n",
       "      <td>2332500</td>\n",
       "      <td>1024.000000</td>\n",
       "      <td>713.389601</td>\n",
       "    </tr>\n",
       "    <tr>\n",
       "      <th>2020-08-03</th>\n",
       "      <td>1089.250000</td>\n",
       "      <td>1028.959961</td>\n",
       "      <td>1032.000000</td>\n",
       "      <td>1083.050049</td>\n",
       "      <td>2631810</td>\n",
       "      <td>1083.050049</td>\n",
       "      <td>719.997001</td>\n",
       "    </tr>\n",
       "  </tbody>\n",
       "</table>\n",
       "<p>100 rows × 7 columns</p>\n",
       "</div>"
      ],
      "text/plain": [
       "                   High          Low         Open        Close   Volume  \\\n",
       "Date                                                                      \n",
       "2020-03-12   403.570007   366.100006   371.000000   377.779999  4419400   \n",
       "2020-03-13   406.420013   363.010010   404.000000   390.899994  3314400   \n",
       "2020-03-16   362.000000   321.500000   339.000000   322.290009  4179900   \n",
       "2020-03-17   358.000000   307.670013   330.019989   355.089996  4240800   \n",
       "2020-03-18   358.556000   305.299988   326.339996   336.829987  3522400   \n",
       "...                 ...          ...          ...          ...      ...   \n",
       "2020-07-28  1014.905029   975.169983  1007.090027   985.000000  3847400   \n",
       "2020-07-29  1107.920044  1038.000000  1107.380005  1053.589966  6492300   \n",
       "2020-07-30  1062.130005  1003.005005  1048.300049  1048.839966  2783900   \n",
       "2020-07-31  1067.677002  1012.109985  1065.000000  1024.000000  2332500   \n",
       "2020-08-03  1089.250000  1028.959961  1032.000000  1083.050049  2631810   \n",
       "\n",
       "              Adj Close    100d-sma  \n",
       "Date                                 \n",
       "2020-03-12   377.779999  403.135600  \n",
       "2020-03-13   390.899994  403.901200  \n",
       "2020-03-16   322.290009  403.926800  \n",
       "2020-03-17   355.089996  404.480800  \n",
       "2020-03-18   336.829987  404.877700  \n",
       "...                 ...         ...  \n",
       "2020-07-28   985.000000  695.532602  \n",
       "2020-07-29  1053.589966  701.347801  \n",
       "2020-07-30  1048.839966  707.653001  \n",
       "2020-07-31  1024.000000  713.389601  \n",
       "2020-08-03  1083.050049  719.997001  \n",
       "\n",
       "[100 rows x 7 columns]"
      ]
     },
     "execution_count": 31,
     "metadata": {},
     "output_type": "execute_result"
    }
   ],
   "source": [
    "# Create column for Simple Moving average ('sma') for 100 days\n",
    "# setting min_periods to 0 which will fill the values in 100d-sma column with close value instead of a NaN\n",
    "df['100d-sma'] =  df['Adj Close'].rolling(window=100, min_periods=0).mean()\n",
    "df.tail(100)"
   ]
  },
  {
   "cell_type": "markdown",
   "metadata": {},
   "source": [
    "We can plot multiple plots into one plot by using subplot, and get the adjusted closing value, the 100 day moving average and trading volume on the same plot. "
   ]
  },
  {
   "cell_type": "code",
   "execution_count": 34,
   "metadata": {},
   "outputs": [
    {
     "data": {
      "image/png": "[encoded data removed]",
      "text/plain": [
       "<Figure size 432x288 with 2 Axes>"
      ]
     },
     "metadata": {},
     "output_type": "display_data"
    }
   ],
   "source": [
    "ax1 = plt.subplot2grid((6,1), (0,0), rowspan=5, colspan=1)\n",
    "ax2 = plt.subplot2grid((6,1), (5,0), rowspan=1, colspan=1,sharex=ax1)\n",
    "ax1.plot(df.index, df['Adj Close'])\n",
    "ax1.plot(df.index, df['100d-sma'])\n",
    "ax2.plot(df.index, df['Volume'])\n",
    "\n",
    "plt.show()"
   ]
  },
  {
   "cell_type": "markdown",
   "metadata": {},
   "source": []
  }
 ],
 "metadata": {
  "kernelspec": {
   "display_name": "Python 3",
   "language": "python",
   "name": "python3"
  },
  "language_info": {
   "codemirror_mode": {
    "name": "ipython",
    "version": 3
   },
   "file_extension": ".py",
   "mimetype": "text/x-python",
   "name": "python",
   "nbconvert_exporter": "python",
   "pygments_lexer": "ipython3",
   "version": "3.8.3"
  }
 },
 "nbformat": 4,
 "nbformat_minor": 4
}
